{
 "cells": [
  {
   "cell_type": "markdown",
   "metadata": {},
   "source": [
    "# WeatherPy - Data Collection\n",
    "\n",
    "### Dependencies"
   ]
  },
  {
   "cell_type": "code",
   "execution_count": 2,
   "metadata": {},
   "outputs": [],
   "source": [
    "from citipy import citipy\n",
    "import datetime as dt\n",
    "import requests\n",
    "import numpy as np\n",
    "import pandas as pd\n",
    "\n",
    "import config"
   ]
  },
  {
   "cell_type": "markdown",
   "metadata": {},
   "source": [
    "### Generate at least 1000 cities around the world randomly"
   ]
  },
  {
   "cell_type": "code",
   "execution_count": 3,
   "metadata": {},
   "outputs": [
    {
     "data": {
      "text/plain": [
       "1111"
      ]
     },
     "execution_count": 3,
     "metadata": {},
     "output_type": "execute_result"
    }
   ],
   "source": [
    "# Generate random GCS coordinates\n",
    "np.random.seed(0)\n",
    "n_coords = 3500\n",
    "lat, lon = np.random.uniform(-90, 90, n_coords), np.random.uniform(-180, 180, n_coords)\n",
    "\n",
    "# Get unique cities closest to the random coordinates\n",
    "cities = []\n",
    "for i in range(n_coords):\n",
    "    city = citipy.nearest_city(lat[i], lon[i])\n",
    "    if city.city_name not in cities:\n",
    "        cities.append(city.city_name)\n",
    "    \n",
    "len(cities)"
   ]
  },
  {
   "cell_type": "markdown",
   "metadata": {},
   "source": [
    "### Get weather data for each city"
   ]
  },
  {
   "cell_type": "code",
   "execution_count": 5,
   "metadata": {},
   "outputs": [
    {
     "data": {
      "text/plain": [
       "{'coord': {'lon': 48.4845, 'lat': 8.4054},\n",
       " 'weather': [{'id': 800,\n",
       "   'main': 'Clear',\n",
       "   'description': 'clear sky',\n",
       "   'icon': '01d'}],\n",
       " 'base': 'stations',\n",
       " 'main': {'temp': 70.72,\n",
       "  'feels_like': 60.98,\n",
       "  'temp_min': 70.72,\n",
       "  'temp_max': 70.72,\n",
       "  'pressure': 1016,\n",
       "  'humidity': 47,\n",
       "  'sea_level': 1016,\n",
       "  'grnd_level': 963},\n",
       " 'visibility': 10000,\n",
       " 'wind': {'speed': 17.18, 'deg': 56},\n",
       " 'clouds': {'all': 0},\n",
       " 'dt': 1610087291,\n",
       " 'sys': {'country': 'SO', 'sunrise': 1610074965, 'sunset': 1610116939},\n",
       " 'timezone': 10800,\n",
       " 'id': 58933,\n",
       " 'name': 'Garoowe',\n",
       " 'cod': 200}"
      ]
     },
     "execution_count": 5,
     "metadata": {},
     "output_type": "execute_result"
    }
   ],
   "source": [
    "# Openweathermap URL for API calls\n",
    "url = 'http://api.openweathermap.org/data/2.5/weather?units=imperial'\n",
    "url += '&appid=' + config.OWM_API_KEY + '&q='\n",
    "\n",
    "# Sample OWM response\n",
    "response = requests.get(url + cities[0]).json()\n",
    "response"
   ]
  },
  {
   "cell_type": "code",
   "execution_count": 30,
   "metadata": {},
   "outputs": [
    {
     "name": "stdout",
     "output_type": "stream",
     "text": [
      "Starting data collection...\n",
      "\n",
      "Num API requests | Cities collected | Cities not found\n",
      "------------------------------------------------------\n",
      "------------------------------------------------------\n",
      "\n",
      "Data collection complete.\n"
     ]
    }
   ],
   "source": [
    "# Store responses\n",
    "cities200, cities404 = [], []\n",
    "\n",
    "# Print progress\n",
    "print('Starting data collection...\\n')\n",
    "header = 'Num API requests | Cities collected | Cities not found'\n",
    "print(header)\n",
    "print('-' * len(header))\n",
    "\n",
    "# Get weather for each city\n",
    "for i, city in enumerate(cities):\n",
    "    \n",
    "    # Make request\n",
    "    response = requests.get(url + city.replace(' ', '+'))\n",
    "    response_json = response.json()\n",
    "    \n",
    "    # For 200 responses (weather was found for city)\n",
    "    try: \n",
    "        \n",
    "        # Main weather\n",
    "        weather = {\n",
    "            'City': response_json['name'],\n",
    "            'Country': response_json['sys']['country'],\n",
    "            'Latitude': response_json['coord']['lat'],\n",
    "            'Longitude': response_json['coord']['lon'],\n",
    "            'Time': dt.datetime.utcfromtimestamp(response_json['dt']).strftime('%Y-%m-%d %H:%M:%S'),\n",
    "            'Description': response_json['weather'][0]['description'],\n",
    "            'Max Temp': response_json['main']['temp_max'],\n",
    "            'Humidity': response_json['main']['humidity'],\n",
    "            'Wind Speed': response_json['wind']['speed'],\n",
    "            'Cloudiness': response_json['clouds']['all']\n",
    "        }\n",
    "        \n",
    "        # Add rain to weather\n",
    "        try:\n",
    "            weather['Rain'] = response_json['rain']['1h']\n",
    "        except:\n",
    "            weather['Rain'] = 0\n",
    "            \n",
    "        # Add snow to weather\n",
    "        try:\n",
    "            weather['Snow'] = response_json['snow']['1h']\n",
    "        except:\n",
    "            weather['Snow'] = 0\n",
    "        \n",
    "        # Add weather to 200 list\n",
    "        cities200.append(weather)\n",
    "    \n",
    "    # For 404 responses (city was not found)\n",
    "    except:\n",
    "        \n",
    "        # Add city to 404 list\n",
    "        cities404.append(city)\n",
    "        \n",
    "    # Print progress every 100 cities and on the last city\n",
    "    if (i > 0 and (i + 1) % 100 == 0) or i == len(cities) - 1:\n",
    "        sep = (' ' * 7) + '| ' # col separator\n",
    "        print(f'{i + 1:10}', end=sep) # num API requests\n",
    "        print(f'{len(cities200):10}', end=sep) # cities collected\n",
    "        print(f'{len(cities404):10}') # cities not found\n",
    "        \n",
    "print('-' * len(header))\n",
    "print('\\nData collection complete.')"
   ]
  },
  {
   "cell_type": "markdown",
   "metadata": {},
   "source": [
    "### Convert data to dataframe"
   ]
  },
  {
   "cell_type": "code",
   "execution_count": 34,
   "metadata": {
    "execution": {
     "iopub.execute_input": "2020-11-04T14:38:28.314662Z",
     "iopub.status.busy": "2020-11-04T14:38:28.314278Z",
     "iopub.status.idle": "2020-11-04T14:38:28.377722Z",
     "shell.execute_reply": "2020-11-04T14:38:28.376855Z",
     "shell.execute_reply.started": "2020-11-04T14:38:28.314630Z"
    }
   },
   "outputs": [
    {
     "name": "stdout",
     "output_type": "stream",
     "text": [
      "<class 'pandas.core.frame.DataFrame'>\n",
      "RangeIndex: 1023 entries, 0 to 1022\n",
      "Data columns (total 12 columns):\n",
      " #   Column       Non-Null Count  Dtype         \n",
      "---  ------       --------------  -----         \n",
      " 0   City         1023 non-null   object        \n",
      " 1   Country      1023 non-null   object        \n",
      " 2   Time         1023 non-null   datetime64[ns]\n",
      " 3   Latitude     1023 non-null   float64       \n",
      " 4   Longitude    1023 non-null   float64       \n",
      " 5   Max Temp     1023 non-null   float64       \n",
      " 6   Humidity     1023 non-null   int64         \n",
      " 7   Cloudiness   1023 non-null   int64         \n",
      " 8   Wind Speed   1023 non-null   float64       \n",
      " 9   Description  1023 non-null   object        \n",
      " 10  Rain         1023 non-null   float64       \n",
      " 11  Snow         1023 non-null   float64       \n",
      "dtypes: datetime64[ns](1), float64(6), int64(2), object(3)\n",
      "memory usage: 96.0+ KB\n",
      "None\n"
     ]
    },
    {
     "data": {
      "text/html": [
       "<div>\n",
       "<style scoped>\n",
       "    .dataframe tbody tr th:only-of-type {\n",
       "        vertical-align: middle;\n",
       "    }\n",
       "\n",
       "    .dataframe tbody tr th {\n",
       "        vertical-align: top;\n",
       "    }\n",
       "\n",
       "    .dataframe thead th {\n",
       "        text-align: right;\n",
       "    }\n",
       "</style>\n",
       "<table border=\"1\" class=\"dataframe\">\n",
       "  <thead>\n",
       "    <tr style=\"text-align: right;\">\n",
       "      <th></th>\n",
       "      <th>City</th>\n",
       "      <th>Country</th>\n",
       "      <th>Time</th>\n",
       "      <th>Latitude</th>\n",
       "      <th>Longitude</th>\n",
       "      <th>Max Temp</th>\n",
       "      <th>Humidity</th>\n",
       "      <th>Cloudiness</th>\n",
       "      <th>Wind Speed</th>\n",
       "      <th>Description</th>\n",
       "      <th>Rain</th>\n",
       "      <th>Snow</th>\n",
       "    </tr>\n",
       "  </thead>\n",
       "  <tbody>\n",
       "    <tr>\n",
       "      <th>0</th>\n",
       "      <td>Garoowe</td>\n",
       "      <td>SO</td>\n",
       "      <td>2020-11-05 13:21:54</td>\n",
       "      <td>8.41</td>\n",
       "      <td>48.48</td>\n",
       "      <td>86.65</td>\n",
       "      <td>22</td>\n",
       "      <td>0</td>\n",
       "      <td>2.53</td>\n",
       "      <td>clear sky</td>\n",
       "      <td>0.0</td>\n",
       "      <td>0.0</td>\n",
       "    </tr>\n",
       "    <tr>\n",
       "      <th>1</th>\n",
       "      <td>Vendas Novas</td>\n",
       "      <td>PT</td>\n",
       "      <td>2020-11-05 13:21:54</td>\n",
       "      <td>38.68</td>\n",
       "      <td>-8.46</td>\n",
       "      <td>63.00</td>\n",
       "      <td>59</td>\n",
       "      <td>20</td>\n",
       "      <td>14.99</td>\n",
       "      <td>few clouds</td>\n",
       "      <td>0.0</td>\n",
       "      <td>0.0</td>\n",
       "    </tr>\n",
       "  </tbody>\n",
       "</table>\n",
       "</div>"
      ],
      "text/plain": [
       "           City Country                Time  Latitude  Longitude  Max Temp  \\\n",
       "0       Garoowe      SO 2020-11-05 13:21:54      8.41      48.48     86.65   \n",
       "1  Vendas Novas      PT 2020-11-05 13:21:54     38.68      -8.46     63.00   \n",
       "\n",
       "   Humidity  Cloudiness  Wind Speed Description  Rain  Snow  \n",
       "0        22           0        2.53   clear sky   0.0   0.0  \n",
       "1        59          20       14.99  few clouds   0.0   0.0  "
      ]
     },
     "execution_count": 34,
     "metadata": {},
     "output_type": "execute_result"
    }
   ],
   "source": [
    "# Create dataframe for weather data\n",
    "weather_df = pd.DataFrame(cities200)\n",
    "print(weather_df.info())\n",
    "weather_df.head(2)"
   ]
  },
  {
   "cell_type": "code",
   "execution_count": 36,
   "metadata": {
    "execution": {
     "iopub.execute_input": "2020-11-04T14:42:16.176938Z",
     "iopub.status.busy": "2020-11-04T14:42:16.176677Z",
     "iopub.status.idle": "2020-11-04T14:42:16.207094Z",
     "shell.execute_reply": "2020-11-04T14:42:16.206199Z",
     "shell.execute_reply.started": "2020-11-04T14:42:16.176909Z"
    }
   },
   "outputs": [
    {
     "data": {
      "text/html": [
       "<div>\n",
       "<style scoped>\n",
       "    .dataframe tbody tr th:only-of-type {\n",
       "        vertical-align: middle;\n",
       "    }\n",
       "\n",
       "    .dataframe tbody tr th {\n",
       "        vertical-align: top;\n",
       "    }\n",
       "\n",
       "    .dataframe thead th {\n",
       "        text-align: right;\n",
       "    }\n",
       "</style>\n",
       "<table border=\"1\" class=\"dataframe\">\n",
       "  <thead>\n",
       "    <tr style=\"text-align: right;\">\n",
       "      <th></th>\n",
       "      <th>ID</th>\n",
       "      <th>City</th>\n",
       "      <th>Country</th>\n",
       "      <th>Time</th>\n",
       "      <th>Latitude</th>\n",
       "      <th>Longitude</th>\n",
       "      <th>Max Temp</th>\n",
       "      <th>Humidity</th>\n",
       "      <th>Cloudiness</th>\n",
       "      <th>Wind Speed</th>\n",
       "      <th>Description</th>\n",
       "      <th>Rain</th>\n",
       "      <th>Snow</th>\n",
       "    </tr>\n",
       "  </thead>\n",
       "  <tbody>\n",
       "    <tr>\n",
       "      <th>0</th>\n",
       "      <td>0</td>\n",
       "      <td>Garoowe</td>\n",
       "      <td>SO</td>\n",
       "      <td>2020-11-05 13:21:54</td>\n",
       "      <td>8.41</td>\n",
       "      <td>48.48</td>\n",
       "      <td>86.65</td>\n",
       "      <td>22</td>\n",
       "      <td>0</td>\n",
       "      <td>2.53</td>\n",
       "      <td>clear sky</td>\n",
       "      <td>0.0</td>\n",
       "      <td>0.0</td>\n",
       "    </tr>\n",
       "    <tr>\n",
       "      <th>1</th>\n",
       "      <td>1</td>\n",
       "      <td>Vendas Novas</td>\n",
       "      <td>PT</td>\n",
       "      <td>2020-11-05 13:21:54</td>\n",
       "      <td>38.68</td>\n",
       "      <td>-8.46</td>\n",
       "      <td>63.00</td>\n",
       "      <td>59</td>\n",
       "      <td>20</td>\n",
       "      <td>14.99</td>\n",
       "      <td>few clouds</td>\n",
       "      <td>0.0</td>\n",
       "      <td>0.0</td>\n",
       "    </tr>\n",
       "  </tbody>\n",
       "</table>\n",
       "</div>"
      ],
      "text/plain": [
       "   ID          City Country                 Time  Latitude  Longitude  \\\n",
       "0   0       Garoowe      SO  2020-11-05 13:21:54      8.41      48.48   \n",
       "1   1  Vendas Novas      PT  2020-11-05 13:21:54     38.68      -8.46   \n",
       "\n",
       "   Max Temp  Humidity  Cloudiness  Wind Speed Description  Rain  Snow  \n",
       "0     86.65        22           0        2.53   clear sky   0.0   0.0  \n",
       "1     63.00        59          20       14.99  few clouds   0.0   0.0  "
      ]
     },
     "execution_count": 36,
     "metadata": {},
     "output_type": "execute_result"
    }
   ],
   "source": [
    "# Save data\n",
    "weather_df.to_csv('data/city_weather.csv', index_label='ID')\n",
    "pd.read_csv('data/city_weather.csv').head(2)"
   ]
  },
  {
   "cell_type": "code",
   "execution_count": null,
   "metadata": {},
   "outputs": [],
   "source": []
  }
 ],
 "metadata": {
  "kernelspec": {
   "display_name": "Python [conda env:minds] *",
   "language": "python",
   "name": "conda-env-minds-py"
  },
  "language_info": {
   "codemirror_mode": {
    "name": "ipython",
    "version": 3
   },
   "file_extension": ".py",
   "mimetype": "text/x-python",
   "name": "python",
   "nbconvert_exporter": "python",
   "pygments_lexer": "ipython3",
   "version": "3.7.8"
  }
 },
 "nbformat": 4,
 "nbformat_minor": 4
}
