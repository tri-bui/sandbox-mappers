{
 "cells": [
  {
   "cell_type": "markdown",
   "metadata": {},
   "source": [
    "# WeatherPy - Itinerary Creation\n",
    "\n",
    "### Dependencies and data"
   ]
  },
  {
   "cell_type": "code",
   "execution_count": 1,
   "metadata": {},
   "outputs": [],
   "source": [
    "%matplotlib inline\n",
    "\n",
    "import datetime as dt\n",
    "import gmaps\n",
    "import requests\n",
    "import numpy as np\n",
    "import pandas as pd\n",
    "\n",
    "import config"
   ]
  },
  {
   "cell_type": "code",
   "execution_count": 2,
   "metadata": {},
   "outputs": [],
   "source": [
    "# Settings\n",
    "gmaps.configure(api_key=config.GMAPS_API_KEY)"
   ]
  },
  {
   "cell_type": "code",
   "execution_count": 3,
   "metadata": {},
   "outputs": [
    {
     "data": {
      "text/html": [
       "<div>\n",
       "<style scoped>\n",
       "    .dataframe tbody tr th:only-of-type {\n",
       "        vertical-align: middle;\n",
       "    }\n",
       "\n",
       "    .dataframe tbody tr th {\n",
       "        vertical-align: top;\n",
       "    }\n",
       "\n",
       "    .dataframe thead th {\n",
       "        text-align: right;\n",
       "    }\n",
       "</style>\n",
       "<table border=\"1\" class=\"dataframe\">\n",
       "  <thead>\n",
       "    <tr style=\"text-align: right;\">\n",
       "      <th></th>\n",
       "      <th>ID</th>\n",
       "      <th>City</th>\n",
       "      <th>Country</th>\n",
       "      <th>Time</th>\n",
       "      <th>Latitude</th>\n",
       "      <th>Longitude</th>\n",
       "      <th>Max Temp</th>\n",
       "      <th>Humidity</th>\n",
       "      <th>Cloudiness</th>\n",
       "      <th>Wind Speed</th>\n",
       "      <th>Description</th>\n",
       "      <th>Rain</th>\n",
       "      <th>Snow</th>\n",
       "      <th>Hotel</th>\n",
       "    </tr>\n",
       "  </thead>\n",
       "  <tbody>\n",
       "    <tr>\n",
       "      <th>0</th>\n",
       "      <td>1</td>\n",
       "      <td>Vendas Novas</td>\n",
       "      <td>PT</td>\n",
       "      <td>2020-11-05 13:21:54</td>\n",
       "      <td>38.68</td>\n",
       "      <td>-8.46</td>\n",
       "      <td>63.0</td>\n",
       "      <td>59</td>\n",
       "      <td>20</td>\n",
       "      <td>14.99</td>\n",
       "      <td>few clouds</td>\n",
       "      <td>0.0</td>\n",
       "      <td>0.0</td>\n",
       "      <td>Hotel Acez</td>\n",
       "    </tr>\n",
       "    <tr>\n",
       "      <th>1</th>\n",
       "      <td>3</td>\n",
       "      <td>Makakilo City</td>\n",
       "      <td>US</td>\n",
       "      <td>2020-11-05 13:21:55</td>\n",
       "      <td>21.35</td>\n",
       "      <td>-158.09</td>\n",
       "      <td>77.0</td>\n",
       "      <td>94</td>\n",
       "      <td>90</td>\n",
       "      <td>3.36</td>\n",
       "      <td>overcast clouds</td>\n",
       "      <td>0.0</td>\n",
       "      <td>0.0</td>\n",
       "      <td>Marriott's Ko Olina Beach Club</td>\n",
       "    </tr>\n",
       "  </tbody>\n",
       "</table>\n",
       "</div>"
      ],
      "text/plain": [
       "   ID           City Country                 Time  Latitude  Longitude  \\\n",
       "0   1   Vendas Novas      PT  2020-11-05 13:21:54     38.68      -8.46   \n",
       "1   3  Makakilo City      US  2020-11-05 13:21:55     21.35    -158.09   \n",
       "\n",
       "   Max Temp  Humidity  Cloudiness  Wind Speed      Description  Rain  Snow  \\\n",
       "0      63.0        59          20       14.99       few clouds   0.0   0.0   \n",
       "1      77.0        94          90        3.36  overcast clouds   0.0   0.0   \n",
       "\n",
       "                            Hotel  \n",
       "0                      Hotel Acez  \n",
       "1  Marriott's Ko Olina Beach Club  "
      ]
     },
     "execution_count": 3,
     "metadata": {},
     "output_type": "execute_result"
    }
   ],
   "source": [
    "# Load data\n",
    "hotels = pd.read_csv('data/hotels.csv')\n",
    "hotels.head(2)"
   ]
  },
  {
   "cell_type": "markdown",
   "metadata": {},
   "source": [
    "### Narrow search and find 4-5 nearby cities"
   ]
  },
  {
   "cell_type": "code",
   "execution_count": 4,
   "metadata": {},
   "outputs": [
    {
     "data": {
      "text/plain": [
       "(60.01, 79.99)"
      ]
     },
     "execution_count": 4,
     "metadata": {},
     "output_type": "execute_result"
    }
   ],
   "source": [
    "min_mt, max_mt = hotels['Max Temp'].min(), hotels['Max Temp'].max()\n",
    "min_mt, max_mt"
   ]
  },
  {
   "cell_type": "code",
   "execution_count": 8,
   "metadata": {},
   "outputs": [
    {
     "name": "stdout",
     "output_type": "stream",
     "text": [
      "What is the lowest temperature you would like at your destination? 66\n",
      "What is the highest temperature you would like at your destination? 69\n",
      "Would you like it to rain at your destination? (yes/no) no\n",
      "Would you like it to snow at your destination? (yes/no) no\n"
     ]
    },
    {
     "data": {
      "text/plain": [
       "(66.0, 69.0, 0, 0)"
      ]
     },
     "execution_count": 8,
     "metadata": {},
     "output_type": "execute_result"
    }
   ],
   "source": [
    "def take_input(prompt, min_temp=min_mt, max_temp=max_mt, yes_no=False):\n",
    "    \n",
    "    '''\n",
    "    Take user input for weather preferences.\n",
    "    \n",
    "    Args:\n",
    "        prompt (str) - input prompt\n",
    "        min_temp (float) - minimum temperature in data\n",
    "        max_temp (float) - maximum temperature in data\n",
    "        yes_no (bool) - weather the input should be \"yes\" or \"no\" only\n",
    "        \n",
    "    Returns:\n",
    "        [float or str]\n",
    "    '''\n",
    "    \n",
    "    i = 'input'\n",
    "    n = i.isnumeric()\n",
    "    \n",
    "    if yes_no:\n",
    "        while i not in ['yes', 'no']:\n",
    "            i = input(prompt)\n",
    "        i = 1 if i == 'yes' else 0\n",
    "    else:\n",
    "        while not n:\n",
    "            try:\n",
    "                i = float(input(prompt))\n",
    "            except:\n",
    "                continue\n",
    "            if min_temp <= i <= max_temp:\n",
    "                n = True\n",
    "                \n",
    "    return i\n",
    "        \n",
    "    \n",
    "# Get preferred temperature range\n",
    "min_temp = take_input('What is the lowest temperature you would like at your destination? ')\n",
    "max_temp = take_input('What is the highest temperature you would like at your destination? ', min_temp=min_temp)\n",
    "rain = take_input('Would you like it to rain at your destination? (yes/no) ', yes_no=True)\n",
    "snow = take_input('Would you like it to snow at your destination? (yes/no) ', yes_no=True)\n",
    "min_temp, max_temp, rain, snow"
   ]
  },
  {
   "cell_type": "code",
   "execution_count": 9,
   "metadata": {},
   "outputs": [
    {
     "data": {
      "text/plain": [
       "(25, 14)"
      ]
     },
     "execution_count": 9,
     "metadata": {},
     "output_type": "execute_result"
    }
   ],
   "source": [
    "# Filter for max temp preference\n",
    "pref_cities = hotels.loc[(hotels['Max Temp'] >= min_temp) & (hotels['Max Temp'] <= max_temp)]\n",
    "\n",
    "# Filter for rain preference\n",
    "if rain:\n",
    "    pref_cities = pref_cities[pref_cities['Rain'] > 0]\n",
    "else:\n",
    "    pref_cities = pref_cities[pref_cities['Rain'] == 0]\n",
    "\n",
    "# Filter for snow preference\n",
    "if snow:\n",
    "    pref_cities = pref_cities[pref_cities['Snow'] > 0]\n",
    "else:\n",
    "    pref_cities = pref_cities[pref_cities['Snow'] == 0]\n",
    "    \n",
    "pref_cities.shape"
   ]
  },
  {
   "cell_type": "code",
   "execution_count": 14,
   "metadata": {},
   "outputs": [
    {
     "name": "stdout",
     "output_type": "stream",
     "text": [
      "0\n"
     ]
    }
   ],
   "source": [
    "# Request url\n",
    "base_url = 'https://maps.googleapis.com/maps/api/place/nearbysearch/json'\n",
    "payload = {\n",
    "    'key': config.GMAPS_API_KEY,\n",
    "    'type': 'lodging',\n",
    "    'radius': 5000\n",
    "}\n",
    "\n",
    "# Cities without results\n",
    "cities404 = []\n",
    "\n",
    "# Find nearest hotel for each city\n",
    "for idx, row in pref_cities.iterrows():\n",
    "    payload['location'] = f'{row[\"Latitude\"]},{row[\"Longitude\"]}'\n",
    "    try:\n",
    "        response = requests.get(base_url, params=payload)\n",
    "        response_json = response.json()\n",
    "        pref_cities.loc[idx, 'Hotel'] = response_json['results'][0]['name']\n",
    "    except:\n",
    "        cities404.append(idx)\n",
    "\n",
    "print(len(cities404))"
   ]
  },
  {
   "cell_type": "markdown",
   "metadata": {},
   "source": [
    "### Temperature heatmap"
   ]
  },
  {
   "cell_type": "code",
   "execution_count": 13,
   "metadata": {},
   "outputs": [
    {
     "data": {
      "application/vnd.jupyter.widget-view+json": {
       "model_id": "86bd3d0cc5e847d89ea623dc67b4a2c0",
       "version_major": 2,
       "version_minor": 0
      },
      "text/plain": [
       "Figure(layout=FigureLayout(height='420px'))"
      ]
     },
     "metadata": {},
     "output_type": "display_data"
    }
   ],
   "source": [
    "# Locations and measurements\n",
    "locations = pref_cities[['Latitude', 'Longitude']]\n",
    "weights = pref_cities['Max Temp'].apply(lambda t: max(t, 0))\n",
    "\n",
    "# Info\n",
    "hotel_info = '''\n",
    "<dl>\n",
    "<dt>Hotel</dt><dd>{Hotel}</dd>\n",
    "<dt>City</dt><dd>{City}</dd>\n",
    "<dt>Country</dt><dd>{Country}</dd>\n",
    "<dt>Weather</dt><dd>{Max Temp}F - {Description}</dd>\n",
    "</dl>\n",
    "'''\n",
    "\n",
    "# Layers\n",
    "heat_layer = gmaps.heatmap_layer(locations, weights, dissipating=False, point_radius=4, max_intensity=100)\n",
    "mark_layer = gmaps.marker_layer(locations,\n",
    "                                info_box_content=[hotel_info.format(**row) for idx, row in pref_cities.iterrows()])\n",
    "\n",
    "# Heatmap\n",
    "fig = gmaps.figure(center=(0.0, 0.0), zoom_level=1.75)\n",
    "fig.add_layer(heat_layer)\n",
    "fig.add_layer(mark_layer)\n",
    "fig"
   ]
  },
  {
   "cell_type": "code",
   "execution_count": 16,
   "metadata": {},
   "outputs": [],
   "source": [
    "# Select cities\n",
    "cities = ['Reconquista', 'Tapes', 'Chui', 'Rocha', 'Departamento de Maldonado']"
   ]
  },
  {
   "cell_type": "markdown",
   "metadata": {},
   "source": [
    "### Create travel itinerary"
   ]
  },
  {
   "cell_type": "code",
   "execution_count": 23,
   "metadata": {},
   "outputs": [
    {
     "data": {
      "text/html": [
       "<div>\n",
       "<style scoped>\n",
       "    .dataframe tbody tr th:only-of-type {\n",
       "        vertical-align: middle;\n",
       "    }\n",
       "\n",
       "    .dataframe tbody tr th {\n",
       "        vertical-align: top;\n",
       "    }\n",
       "\n",
       "    .dataframe thead th {\n",
       "        text-align: right;\n",
       "    }\n",
       "</style>\n",
       "<table border=\"1\" class=\"dataframe\">\n",
       "  <thead>\n",
       "    <tr style=\"text-align: right;\">\n",
       "      <th></th>\n",
       "      <th>ID</th>\n",
       "      <th>City</th>\n",
       "      <th>Country</th>\n",
       "      <th>Time</th>\n",
       "      <th>Latitude</th>\n",
       "      <th>Longitude</th>\n",
       "      <th>Max Temp</th>\n",
       "      <th>Humidity</th>\n",
       "      <th>Cloudiness</th>\n",
       "      <th>Wind Speed</th>\n",
       "      <th>Description</th>\n",
       "      <th>Rain</th>\n",
       "      <th>Snow</th>\n",
       "      <th>Hotel</th>\n",
       "    </tr>\n",
       "  </thead>\n",
       "  <tbody>\n",
       "    <tr>\n",
       "      <th>22</th>\n",
       "      <td>65</td>\n",
       "      <td>Chui</td>\n",
       "      <td>UY</td>\n",
       "      <td>2020-11-05 13:22:10</td>\n",
       "      <td>-33.70</td>\n",
       "      <td>-53.46</td>\n",
       "      <td>67.41</td>\n",
       "      <td>63</td>\n",
       "      <td>3</td>\n",
       "      <td>12.33</td>\n",
       "      <td>clear sky</td>\n",
       "      <td>0.0</td>\n",
       "      <td>0.0</td>\n",
       "      <td>Nuevo Hotel Plaza</td>\n",
       "    </tr>\n",
       "    <tr>\n",
       "      <th>51</th>\n",
       "      <td>164</td>\n",
       "      <td>Reconquista</td>\n",
       "      <td>AR</td>\n",
       "      <td>2020-11-05 13:27:55</td>\n",
       "      <td>-29.15</td>\n",
       "      <td>-59.65</td>\n",
       "      <td>68.79</td>\n",
       "      <td>44</td>\n",
       "      <td>21</td>\n",
       "      <td>12.46</td>\n",
       "      <td>few clouds</td>\n",
       "      <td>0.0</td>\n",
       "      <td>0.0</td>\n",
       "      <td>Grand Hotel</td>\n",
       "    </tr>\n",
       "    <tr>\n",
       "      <th>115</th>\n",
       "      <td>448</td>\n",
       "      <td>Departamento de Maldonado</td>\n",
       "      <td>UY</td>\n",
       "      <td>2020-11-05 13:28:58</td>\n",
       "      <td>-34.67</td>\n",
       "      <td>-54.92</td>\n",
       "      <td>68.00</td>\n",
       "      <td>68</td>\n",
       "      <td>75</td>\n",
       "      <td>10.29</td>\n",
       "      <td>broken clouds</td>\n",
       "      <td>0.0</td>\n",
       "      <td>0.0</td>\n",
       "      <td>La Cimarrona</td>\n",
       "    </tr>\n",
       "    <tr>\n",
       "      <th>123</th>\n",
       "      <td>472</td>\n",
       "      <td>Rocha</td>\n",
       "      <td>UY</td>\n",
       "      <td>2020-11-05 13:24:44</td>\n",
       "      <td>-34.48</td>\n",
       "      <td>-54.33</td>\n",
       "      <td>67.84</td>\n",
       "      <td>62</td>\n",
       "      <td>40</td>\n",
       "      <td>11.21</td>\n",
       "      <td>scattered clouds</td>\n",
       "      <td>0.0</td>\n",
       "      <td>0.0</td>\n",
       "      <td>Beleza Pura B&amp;B</td>\n",
       "    </tr>\n",
       "    <tr>\n",
       "      <th>184</th>\n",
       "      <td>768</td>\n",
       "      <td>Tapes</td>\n",
       "      <td>BR</td>\n",
       "      <td>2020-11-05 13:30:19</td>\n",
       "      <td>-30.67</td>\n",
       "      <td>-51.40</td>\n",
       "      <td>67.87</td>\n",
       "      <td>69</td>\n",
       "      <td>51</td>\n",
       "      <td>15.61</td>\n",
       "      <td>broken clouds</td>\n",
       "      <td>0.0</td>\n",
       "      <td>0.0</td>\n",
       "      <td>Cabanas Camping Union</td>\n",
       "    </tr>\n",
       "  </tbody>\n",
       "</table>\n",
       "</div>"
      ],
      "text/plain": [
       "      ID                       City Country                 Time  Latitude  \\\n",
       "22    65                       Chui      UY  2020-11-05 13:22:10    -33.70   \n",
       "51   164                Reconquista      AR  2020-11-05 13:27:55    -29.15   \n",
       "115  448  Departamento de Maldonado      UY  2020-11-05 13:28:58    -34.67   \n",
       "123  472                      Rocha      UY  2020-11-05 13:24:44    -34.48   \n",
       "184  768                      Tapes      BR  2020-11-05 13:30:19    -30.67   \n",
       "\n",
       "     Longitude  Max Temp  Humidity  Cloudiness  Wind Speed       Description  \\\n",
       "22      -53.46     67.41        63           3       12.33         clear sky   \n",
       "51      -59.65     68.79        44          21       12.46        few clouds   \n",
       "115     -54.92     68.00        68          75       10.29     broken clouds   \n",
       "123     -54.33     67.84        62          40       11.21  scattered clouds   \n",
       "184     -51.40     67.87        69          51       15.61     broken clouds   \n",
       "\n",
       "     Rain  Snow                  Hotel  \n",
       "22    0.0   0.0      Nuevo Hotel Plaza  \n",
       "51    0.0   0.0            Grand Hotel  \n",
       "115   0.0   0.0           La Cimarrona  \n",
       "123   0.0   0.0        Beleza Pura B&B  \n",
       "184   0.0   0.0  Cabanas Camping Union  "
      ]
     },
     "execution_count": 23,
     "metadata": {},
     "output_type": "execute_result"
    }
   ],
   "source": [
    "# Extract selected cities\n",
    "cities_df = pref_cities[pref_cities['City'].isin(cities)]\n",
    "cities_df"
   ]
  },
  {
   "cell_type": "code",
   "execution_count": 32,
   "metadata": {},
   "outputs": [
    {
     "data": {
      "text/plain": [
       "array([[-29.15, -59.65],\n",
       "       [-34.67, -54.92],\n",
       "       [-30.67, -51.4 ],\n",
       "       [-33.7 , -53.46],\n",
       "       [-34.48, -54.33]])"
      ]
     },
     "execution_count": 32,
     "metadata": {},
     "output_type": "execute_result"
    }
   ],
   "source": [
    "# Extract coordinates for each city\n",
    "cities_df = cities_df.loc[[51, 115, 184, 22, 123]]\n",
    "locations = cities_df[['Latitude', 'Longitude']].values\n",
    "locations"
   ]
  },
  {
   "cell_type": "code",
   "execution_count": 43,
   "metadata": {},
   "outputs": [
    {
     "data": {
      "application/vnd.jupyter.widget-view+json": {
       "model_id": "f824854373624019b0e6576082b47fef",
       "version_major": 2,
       "version_minor": 0
      },
      "text/plain": [
       "Figure(layout=FigureLayout(height='420px'))"
      ]
     },
     "metadata": {},
     "output_type": "display_data"
    }
   ],
   "source": [
    "# Info\n",
    "city_info = '''\n",
    "<dl>\n",
    "<dt>Hotel</dt><dd>{Hotel}</dd>\n",
    "<dt>City</dt><dd>{City}</dd>\n",
    "<dt>Country</dt><dd>{Country}</dd>\n",
    "<dt>Weather</dt><dd>{Max Temp} F - {Description}</dd>\n",
    "</dl>\n",
    "'''\n",
    "\n",
    "# # Layers\n",
    "# mark_layer = gmaps.marker_layer(locations,\n",
    "#                                 info_box_content=[hotel_info.format(**row) for idx, row in hotels.iterrows()])\n",
    "\n",
    "# Layers\n",
    "dir_layer = gmaps.directions_layer(coords[0], coords[1], coords[2:], show_markers=False)\n",
    "mark_layer = gmaps.marker_layer(locations,\n",
    "                                info_box_content=[city_info.format(**row) for idx, row in cities_df.iterrows()])\n",
    "\n",
    "# Map\n",
    "fig = gmaps.figure(center=(-30.0, -60.0), zoom_level=5)\n",
    "fig.add_layer(dir_layer)\n",
    "fig.add_layer(mark_layer)\n",
    "fig"
   ]
  },
  {
   "cell_type": "code",
   "execution_count": null,
   "metadata": {},
   "outputs": [],
   "source": []
  }
 ],
 "metadata": {
  "kernelspec": {
   "display_name": "Python [conda env:minds] *",
   "language": "python",
   "name": "conda-env-minds-py"
  },
  "language_info": {
   "codemirror_mode": {
    "name": "ipython",
    "version": 3
   },
   "file_extension": ".py",
   "mimetype": "text/x-python",
   "name": "python",
   "nbconvert_exporter": "python",
   "pygments_lexer": "ipython3",
   "version": "3.7.8"
  }
 },
 "nbformat": 4,
 "nbformat_minor": 4
}
