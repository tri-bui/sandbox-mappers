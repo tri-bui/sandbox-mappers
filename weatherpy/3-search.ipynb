{
 "cells": [
  {
   "cell_type": "markdown",
   "metadata": {},
   "source": [
    "# WeatherPy - Hotel Search\n",
    "\n",
    "### Dependencies and data"
   ]
  },
  {
   "cell_type": "code",
   "execution_count": 1,
   "metadata": {},
   "outputs": [],
   "source": [
    "%matplotlib inline\n",
    "\n",
    "import datetime as dt\n",
    "import gmaps\n",
    "import requests\n",
    "import numpy as np\n",
    "import pandas as pd\n",
    "\n",
    "import config"
   ]
  },
  {
   "cell_type": "code",
   "execution_count": 2,
   "metadata": {},
   "outputs": [],
   "source": [
    "# Configure API key\n",
    "gmaps.configure(api_key=config.GMAPS_API_KEY)"
   ]
  },
  {
   "cell_type": "code",
   "execution_count": 3,
   "metadata": {},
   "outputs": [
    {
     "data": {
      "text/html": [
       "<div>\n",
       "<style scoped>\n",
       "    .dataframe tbody tr th:only-of-type {\n",
       "        vertical-align: middle;\n",
       "    }\n",
       "\n",
       "    .dataframe tbody tr th {\n",
       "        vertical-align: top;\n",
       "    }\n",
       "\n",
       "    .dataframe thead th {\n",
       "        text-align: right;\n",
       "    }\n",
       "</style>\n",
       "<table border=\"1\" class=\"dataframe\">\n",
       "  <thead>\n",
       "    <tr style=\"text-align: right;\">\n",
       "      <th></th>\n",
       "      <th>ID</th>\n",
       "      <th>City</th>\n",
       "      <th>Country</th>\n",
       "      <th>Latitude</th>\n",
       "      <th>Longitude</th>\n",
       "      <th>Time</th>\n",
       "      <th>Description</th>\n",
       "      <th>Max Temp</th>\n",
       "      <th>Humidity</th>\n",
       "      <th>Wind Speed</th>\n",
       "      <th>Cloudiness</th>\n",
       "      <th>Rain</th>\n",
       "      <th>Snow</th>\n",
       "    </tr>\n",
       "  </thead>\n",
       "  <tbody>\n",
       "    <tr>\n",
       "      <th>0</th>\n",
       "      <td>0</td>\n",
       "      <td>Garoowe</td>\n",
       "      <td>SO</td>\n",
       "      <td>8.4054</td>\n",
       "      <td>48.4845</td>\n",
       "      <td>2021-01-09 20:45:48</td>\n",
       "      <td>clear sky</td>\n",
       "      <td>66.99</td>\n",
       "      <td>64</td>\n",
       "      <td>16.51</td>\n",
       "      <td>0</td>\n",
       "      <td>0.0</td>\n",
       "      <td>0.0</td>\n",
       "    </tr>\n",
       "    <tr>\n",
       "      <th>1</th>\n",
       "      <td>1</td>\n",
       "      <td>Vendas Novas</td>\n",
       "      <td>PT</td>\n",
       "      <td>38.6771</td>\n",
       "      <td>-8.4579</td>\n",
       "      <td>2021-01-09 20:45:49</td>\n",
       "      <td>few clouds</td>\n",
       "      <td>43.00</td>\n",
       "      <td>65</td>\n",
       "      <td>11.50</td>\n",
       "      <td>20</td>\n",
       "      <td>0.0</td>\n",
       "      <td>0.0</td>\n",
       "    </tr>\n",
       "  </tbody>\n",
       "</table>\n",
       "</div>"
      ],
      "text/plain": [
       "   ID          City Country  Latitude  Longitude                 Time  \\\n",
       "0   0       Garoowe      SO    8.4054    48.4845  2021-01-09 20:45:48   \n",
       "1   1  Vendas Novas      PT   38.6771    -8.4579  2021-01-09 20:45:49   \n",
       "\n",
       "  Description  Max Temp  Humidity  Wind Speed  Cloudiness  Rain  Snow  \n",
       "0   clear sky     66.99        64       16.51           0   0.0   0.0  \n",
       "1  few clouds     43.00        65       11.50          20   0.0   0.0  "
      ]
     },
     "execution_count": 3,
     "metadata": {},
     "output_type": "execute_result"
    }
   ],
   "source": [
    "# Weather data\n",
    "weather = pd.read_csv('data/weather.csv')\n",
    "weather.head(2)"
   ]
  },
  {
   "cell_type": "markdown",
   "metadata": {},
   "source": [
    "### Find hotels near destinations within the user's preferred weather"
   ]
  },
  {
   "cell_type": "code",
   "execution_count": 4,
   "metadata": {},
   "outputs": [
    {
     "data": {
      "text/plain": [
       "(-47.2, 96.01)"
      ]
     },
     "execution_count": 4,
     "metadata": {},
     "output_type": "execute_result"
    }
   ],
   "source": [
    "# Get the lowest and highest `Max Temp` in the data\n",
    "min_mt, max_mt = weather['Max Temp'].min(), weather['Max Temp'].max()\n",
    "min_mt, max_mt"
   ]
  },
  {
   "cell_type": "code",
   "execution_count": 5,
   "metadata": {},
   "outputs": [
    {
     "name": "stdout",
     "output_type": "stream",
     "text": [
      "What is the lowest temperature you would like at your destination? 70\n",
      "What is the highest temperature you would like at your destination? 90\n",
      "Would you like it to rain at your destination? (yes/no) yes\n",
      "Would you like it to snow at your destination? (yes/no) no\n"
     ]
    },
    {
     "data": {
      "text/plain": [
       "(70.0, 90.0, 1, 0)"
      ]
     },
     "execution_count": 5,
     "metadata": {},
     "output_type": "execute_result"
    }
   ],
   "source": [
    "def take_input(prompt, min_temp=min_mt, max_temp=max_mt, yes_no=False):\n",
    "    \n",
    "    \"\"\"\n",
    "    Take user input for weather preferences.\n",
    "    \n",
    "    Args:\n",
    "        [1] prompt (str) - input prompt\n",
    "        [2] min_temp (float) - minimum temperature in data\n",
    "        [3] max_temp (float) - maximum temperature in data\n",
    "        [4] yes_no (bool) - whether the input should be \"yes\" or \"no\" only\n",
    "        \n",
    "    Returns:\n",
    "        [float or str] User input\n",
    "    \"\"\"\n",
    "    \n",
    "    # Initialize user input and loop condition to False\n",
    "    i = b = False\n",
    "    \n",
    "    if yes_no: # yes/no input\n",
    "        while i not in ['yes', 'no']: # continue until input is \"yes\" or \"no\"\n",
    "            i = input(prompt) # take user input\n",
    "        i = 1 if i == 'yes' else 0 # convert input to numeric\n",
    "    else: \n",
    "        while not b: # loop condition\n",
    "            try:\n",
    "                i = float(input(prompt)) # take user input and convert to numeric\n",
    "            except:\n",
    "                continue\n",
    "            if min_temp <= i <= max_temp: # check if user input is within proper temperature range\n",
    "                b = True # end loop\n",
    "            \n",
    "    # Numeric input\n",
    "    return i\n",
    "        \n",
    "    \n",
    "# Get preferred weather\n",
    "min_temp = take_input('What is the lowest temperature you would like at your destination? ')\n",
    "max_temp = take_input('What is the highest temperature you would like at your destination? ', min_temp=min_temp)\n",
    "rain = take_input('Would you like it to rain at your destination? (yes/no) ', yes_no=True)\n",
    "snow = take_input('Would you like it to snow at your destination? (yes/no) ', yes_no=True)\n",
    "min_temp, max_temp, rain, snow"
   ]
  },
  {
   "cell_type": "code",
   "execution_count": 6,
   "metadata": {},
   "outputs": [
    {
     "data": {
      "text/plain": [
       "(70, 13)"
      ]
     },
     "execution_count": 6,
     "metadata": {},
     "output_type": "execute_result"
    }
   ],
   "source": [
    "# Filter for max temp preference\n",
    "pref_cities = weather.loc[(weather['Max Temp'] >= min_temp) & (weather['Max Temp'] <= max_temp)]\n",
    "\n",
    "# Filter for rain preference\n",
    "if rain:\n",
    "    pref_cities = pref_cities[pref_cities['Rain'] > 0]\n",
    "else:\n",
    "    pref_cities = pref_cities[pref_cities['Rain'] == 0]\n",
    "\n",
    "# Filter for snow preference\n",
    "if snow:\n",
    "    pref_cities = pref_cities[pref_cities['Snow'] > 0]\n",
    "else:\n",
    "    pref_cities = pref_cities[pref_cities['Snow'] == 0]\n",
    "    \n",
    "pref_cities.shape"
   ]
  },
  {
   "cell_type": "code",
   "execution_count": 7,
   "metadata": {},
   "outputs": [
    {
     "data": {
      "text/html": [
       "<div>\n",
       "<style scoped>\n",
       "    .dataframe tbody tr th:only-of-type {\n",
       "        vertical-align: middle;\n",
       "    }\n",
       "\n",
       "    .dataframe tbody tr th {\n",
       "        vertical-align: top;\n",
       "    }\n",
       "\n",
       "    .dataframe thead th {\n",
       "        text-align: right;\n",
       "    }\n",
       "</style>\n",
       "<table border=\"1\" class=\"dataframe\">\n",
       "  <thead>\n",
       "    <tr style=\"text-align: right;\">\n",
       "      <th></th>\n",
       "      <th>ID</th>\n",
       "      <th>City</th>\n",
       "      <th>Country</th>\n",
       "      <th>Latitude</th>\n",
       "      <th>Longitude</th>\n",
       "      <th>Time</th>\n",
       "      <th>Description</th>\n",
       "      <th>Max Temp</th>\n",
       "      <th>Humidity</th>\n",
       "      <th>Wind Speed</th>\n",
       "      <th>Cloudiness</th>\n",
       "      <th>Rain</th>\n",
       "      <th>Snow</th>\n",
       "      <th>Hotel</th>\n",
       "    </tr>\n",
       "  </thead>\n",
       "  <tbody>\n",
       "    <tr>\n",
       "      <th>2</th>\n",
       "      <td>2</td>\n",
       "      <td>Butaritari</td>\n",
       "      <td>KI</td>\n",
       "      <td>3.0707</td>\n",
       "      <td>172.7902</td>\n",
       "      <td>2021-01-09 20:45:49</td>\n",
       "      <td>light rain</td>\n",
       "      <td>81.70</td>\n",
       "      <td>80</td>\n",
       "      <td>21.07</td>\n",
       "      <td>62</td>\n",
       "      <td>0.2200</td>\n",
       "      <td>0.0</td>\n",
       "      <td>NaN</td>\n",
       "    </tr>\n",
       "    <tr>\n",
       "      <th>26</th>\n",
       "      <td>26</td>\n",
       "      <td>San Policarpo</td>\n",
       "      <td>PH</td>\n",
       "      <td>12.1791</td>\n",
       "      <td>125.5072</td>\n",
       "      <td>2021-01-09 20:45:54</td>\n",
       "      <td>heavy intensity rain</td>\n",
       "      <td>80.11</td>\n",
       "      <td>85</td>\n",
       "      <td>19.33</td>\n",
       "      <td>100</td>\n",
       "      <td>5.0126</td>\n",
       "      <td>0.0</td>\n",
       "      <td>NaN</td>\n",
       "    </tr>\n",
       "  </tbody>\n",
       "</table>\n",
       "</div>"
      ],
      "text/plain": [
       "    ID           City Country  Latitude  Longitude                 Time  \\\n",
       "2    2     Butaritari      KI    3.0707   172.7902  2021-01-09 20:45:49   \n",
       "26  26  San Policarpo      PH   12.1791   125.5072  2021-01-09 20:45:54   \n",
       "\n",
       "             Description  Max Temp  Humidity  Wind Speed  Cloudiness    Rain  \\\n",
       "2             light rain     81.70        80       21.07          62  0.2200   \n",
       "26  heavy intensity rain     80.11        85       19.33         100  5.0126   \n",
       "\n",
       "    Snow  Hotel  \n",
       "2    0.0    NaN  \n",
       "26   0.0    NaN  "
      ]
     },
     "execution_count": 7,
     "metadata": {},
     "output_type": "execute_result"
    }
   ],
   "source": [
    "# Create new dataframe\n",
    "hotels = pref_cities.copy()\n",
    "hotels['Hotel'] = np.NaN # create new col for hotels\n",
    "\n",
    "# Request url and params\n",
    "base_url = 'https://maps.googleapis.com/maps/api/place/nearbysearch/json'\n",
    "payload = {\n",
    "    'key': config.GMAPS_API_KEY,\n",
    "    'type': 'lodging', # hotels\n",
    "    'radius': 5000 # meters\n",
    "}\n",
    "\n",
    "hotels.head(2)"
   ]
  },
  {
   "cell_type": "code",
   "execution_count": 8,
   "metadata": {},
   "outputs": [
    {
     "data": {
      "text/plain": [
       "{'html_attributions': [],\n",
       " 'results': [{'business_status': 'OPERATIONAL',\n",
       "   'geometry': {'location': {'lat': 3.071017, 'lng': 172.7899308},\n",
       "    'viewport': {'northeast': {'lat': 3.072182880291502,\n",
       "      'lng': 172.7914287802915},\n",
       "     'southwest': {'lat': 3.069484919708498, 'lng': 172.7887308197085}}},\n",
       "   'icon': 'https://maps.gstatic.com/mapfiles/place_api/icons/v1/png_71/lodging-71.png',\n",
       "   'name': 'Isles Sunset Lodge',\n",
       "   'photos': [{'height': 3024,\n",
       "     'html_attributions': ['<a href=\"https://maps.google.com/maps/contrib/108849642341079970403\">Ricardo Torres Coll</a>'],\n",
       "     'photo_reference': 'ATtYBwI8R7xCjI1TEEZl4FX2kB65HDuog59gIXb-R9MbTahtDHpbjMTPU5xAumc_T3IOTPYWy_QiYF8FPNSxRtqHkEiD91OTXEVN-g5iCjF0XibRV4fzwcYH_Fhv40mxQiHyKp9j5gbrk4j8714y0h1u_frurapv-mWuCEyPUfRlcl5kWdhj',\n",
       "     'width': 4032}],\n",
       "   'place_id': 'ChIJG66HC9itb2URsiEXDJRiUHw',\n",
       "   'plus_code': {'global_code': '6VMJ3QCQ+CX'},\n",
       "   'rating': 4,\n",
       "   'reference': 'ChIJG66HC9itb2URsiEXDJRiUHw',\n",
       "   'scope': 'GOOGLE',\n",
       "   'types': ['lodging', 'point_of_interest', 'establishment'],\n",
       "   'user_ratings_total': 4,\n",
       "   'vicinity': 'Kiribati'}],\n",
       " 'status': 'OK'}"
      ]
     },
     "execution_count": 8,
     "metadata": {},
     "output_type": "execute_result"
    }
   ],
   "source": [
    "# Sample response\n",
    "payload['location'] = f'{hotels.iloc[0, 3]},{hotels.iloc[0, 4]}' # first city in data\n",
    "response = requests.get(base_url, params=payload)\n",
    "response.json()"
   ]
  },
  {
   "cell_type": "code",
   "execution_count": 9,
   "metadata": {},
   "outputs": [
    {
     "name": "stdout",
     "output_type": "stream",
     "text": [
      "6\n"
     ]
    },
    {
     "data": {
      "text/plain": [
       "['Mabaruma', 'Mitú', 'Barra Patuca', 'Amapá', 'Ndendé', 'Micheweni']"
      ]
     },
     "execution_count": 9,
     "metadata": {},
     "output_type": "execute_result"
    }
   ],
   "source": [
    "# Indices of cities without results\n",
    "i404 = []\n",
    "\n",
    "# Find nearest hotel for each city\n",
    "for idx, row in hotels.iterrows():\n",
    "    payload['location'] = f'{row[\"Latitude\"]},{row[\"Longitude\"]}' # city coordinates\n",
    "    try:\n",
    "        response = requests.get(base_url, params=payload)\n",
    "        response_json = response.json()\n",
    "        hotels.loc[idx, 'Hotel'] = response_json['results'][0]['name']\n",
    "    except:\n",
    "        i404.append(idx)\n",
    "\n",
    "print(len(i404))\n",
    "hotels.loc[i404, 'City'].tolist()"
   ]
  },
  {
   "cell_type": "code",
   "execution_count": 10,
   "metadata": {},
   "outputs": [
    {
     "name": "stdout",
     "output_type": "stream",
     "text": [
      "(64, 14)\n"
     ]
    },
    {
     "data": {
      "text/html": [
       "<div>\n",
       "<style scoped>\n",
       "    .dataframe tbody tr th:only-of-type {\n",
       "        vertical-align: middle;\n",
       "    }\n",
       "\n",
       "    .dataframe tbody tr th {\n",
       "        vertical-align: top;\n",
       "    }\n",
       "\n",
       "    .dataframe thead th {\n",
       "        text-align: right;\n",
       "    }\n",
       "</style>\n",
       "<table border=\"1\" class=\"dataframe\">\n",
       "  <thead>\n",
       "    <tr style=\"text-align: right;\">\n",
       "      <th></th>\n",
       "      <th>ID</th>\n",
       "      <th>City</th>\n",
       "      <th>Country</th>\n",
       "      <th>Latitude</th>\n",
       "      <th>Longitude</th>\n",
       "      <th>Time</th>\n",
       "      <th>Description</th>\n",
       "      <th>Max Temp</th>\n",
       "      <th>Humidity</th>\n",
       "      <th>Wind Speed</th>\n",
       "      <th>Cloudiness</th>\n",
       "      <th>Rain</th>\n",
       "      <th>Snow</th>\n",
       "      <th>Hotel</th>\n",
       "    </tr>\n",
       "  </thead>\n",
       "  <tbody>\n",
       "    <tr>\n",
       "      <th>2</th>\n",
       "      <td>2</td>\n",
       "      <td>Butaritari</td>\n",
       "      <td>KI</td>\n",
       "      <td>3.0707</td>\n",
       "      <td>172.7902</td>\n",
       "      <td>2021-01-09 20:45:49</td>\n",
       "      <td>light rain</td>\n",
       "      <td>81.70</td>\n",
       "      <td>80</td>\n",
       "      <td>21.07</td>\n",
       "      <td>62</td>\n",
       "      <td>0.2200</td>\n",
       "      <td>0.0</td>\n",
       "      <td>Isles Sunset Lodge</td>\n",
       "    </tr>\n",
       "    <tr>\n",
       "      <th>26</th>\n",
       "      <td>26</td>\n",
       "      <td>San Policarpo</td>\n",
       "      <td>PH</td>\n",
       "      <td>12.1791</td>\n",
       "      <td>125.5072</td>\n",
       "      <td>2021-01-09 20:45:54</td>\n",
       "      <td>heavy intensity rain</td>\n",
       "      <td>80.11</td>\n",
       "      <td>85</td>\n",
       "      <td>19.33</td>\n",
       "      <td>100</td>\n",
       "      <td>5.0126</td>\n",
       "      <td>0.0</td>\n",
       "      <td>JM Lodge</td>\n",
       "    </tr>\n",
       "  </tbody>\n",
       "</table>\n",
       "</div>"
      ],
      "text/plain": [
       "    ID           City Country  Latitude  Longitude                 Time  \\\n",
       "2    2     Butaritari      KI    3.0707   172.7902  2021-01-09 20:45:49   \n",
       "26  26  San Policarpo      PH   12.1791   125.5072  2021-01-09 20:45:54   \n",
       "\n",
       "             Description  Max Temp  Humidity  Wind Speed  Cloudiness    Rain  \\\n",
       "2             light rain     81.70        80       21.07          62  0.2200   \n",
       "26  heavy intensity rain     80.11        85       19.33         100  5.0126   \n",
       "\n",
       "    Snow               Hotel  \n",
       "2    0.0  Isles Sunset Lodge  \n",
       "26   0.0            JM Lodge  "
      ]
     },
     "execution_count": 10,
     "metadata": {},
     "output_type": "execute_result"
    }
   ],
   "source": [
    "# Drop cities without results\n",
    "hotels.dropna(inplace=True)\n",
    "print(hotels.shape)\n",
    "hotels.head(2)"
   ]
  },
  {
   "cell_type": "markdown",
   "metadata": {},
   "source": [
    "### Temperature heatmap"
   ]
  },
  {
   "cell_type": "code",
   "execution_count": 11,
   "metadata": {},
   "outputs": [],
   "source": [
    "# For Jupyterlab\n",
    "# !jupyter labextension install @jupyter-widgets/jupyterlab-manager\n",
    "# !jupyter lab build"
   ]
  },
  {
   "cell_type": "code",
   "execution_count": 12,
   "metadata": {},
   "outputs": [
    {
     "data": {
      "application/vnd.jupyter.widget-view+json": {
       "model_id": "16b6bdf318954fa9b7b8ec2ad0e2573f",
       "version_major": 2,
       "version_minor": 0
      },
      "text/plain": [
       "Figure(layout=FigureLayout(height='420px'))"
      ]
     },
     "metadata": {},
     "output_type": "display_data"
    }
   ],
   "source": [
    "# Locations and measurements\n",
    "locations = hotels[['Latitude', 'Longitude']]\n",
    "weights = hotels['Max Temp'].apply(lambda t: max(t, 0))\n",
    "\n",
    "# Info\n",
    "hotel_info = \"\"\"\n",
    "<dl>\n",
    "<dt>Hotel</dt><dd>{Hotel}</dd>\n",
    "<dt>City</dt><dd>{City}</dd>\n",
    "<dt>Country</dt><dd>{Country}</dd>\n",
    "<dt>Weather</dt><dd>{Max Temp} F - {Description}</dd>\n",
    "</dl>\n",
    "\"\"\"\n",
    "\n",
    "# Layers\n",
    "heat_layer = gmaps.heatmap_layer(locations, weights, dissipating=False, point_radius=7, max_intensity=140)\n",
    "mark_layer = gmaps.marker_layer(locations,\n",
    "                                info_box_content=[hotel_info.format(**row) for idx, row in hotels.iterrows()])\n",
    "\n",
    "# Heatmap\n",
    "fig = gmaps.figure(center=(0.0, 0.0), zoom_level=1.75)\n",
    "fig.add_layer(heat_layer)\n",
    "fig.add_layer(mark_layer)\n",
    "fig"
   ]
  },
  {
   "cell_type": "code",
   "execution_count": 13,
   "metadata": {},
   "outputs": [
    {
     "data": {
      "text/html": [
       "<div>\n",
       "<style scoped>\n",
       "    .dataframe tbody tr th:only-of-type {\n",
       "        vertical-align: middle;\n",
       "    }\n",
       "\n",
       "    .dataframe tbody tr th {\n",
       "        vertical-align: top;\n",
       "    }\n",
       "\n",
       "    .dataframe thead th {\n",
       "        text-align: right;\n",
       "    }\n",
       "</style>\n",
       "<table border=\"1\" class=\"dataframe\">\n",
       "  <thead>\n",
       "    <tr style=\"text-align: right;\">\n",
       "      <th></th>\n",
       "      <th>ID</th>\n",
       "      <th>City</th>\n",
       "      <th>Country</th>\n",
       "      <th>Latitude</th>\n",
       "      <th>Longitude</th>\n",
       "      <th>Time</th>\n",
       "      <th>Description</th>\n",
       "      <th>Max Temp</th>\n",
       "      <th>Humidity</th>\n",
       "      <th>Wind Speed</th>\n",
       "      <th>Cloudiness</th>\n",
       "      <th>Rain</th>\n",
       "      <th>Snow</th>\n",
       "      <th>Hotel</th>\n",
       "    </tr>\n",
       "  </thead>\n",
       "  <tbody>\n",
       "    <tr>\n",
       "      <th>0</th>\n",
       "      <td>2</td>\n",
       "      <td>Butaritari</td>\n",
       "      <td>KI</td>\n",
       "      <td>3.0707</td>\n",
       "      <td>172.7902</td>\n",
       "      <td>2021-01-09 20:45:49</td>\n",
       "      <td>light rain</td>\n",
       "      <td>81.70</td>\n",
       "      <td>80</td>\n",
       "      <td>21.07</td>\n",
       "      <td>62</td>\n",
       "      <td>0.2200</td>\n",
       "      <td>0.0</td>\n",
       "      <td>Isles Sunset Lodge</td>\n",
       "    </tr>\n",
       "    <tr>\n",
       "      <th>1</th>\n",
       "      <td>26</td>\n",
       "      <td>San Policarpo</td>\n",
       "      <td>PH</td>\n",
       "      <td>12.1791</td>\n",
       "      <td>125.5072</td>\n",
       "      <td>2021-01-09 20:45:54</td>\n",
       "      <td>heavy intensity rain</td>\n",
       "      <td>80.11</td>\n",
       "      <td>85</td>\n",
       "      <td>19.33</td>\n",
       "      <td>100</td>\n",
       "      <td>5.0126</td>\n",
       "      <td>0.0</td>\n",
       "      <td>JM Lodge</td>\n",
       "    </tr>\n",
       "  </tbody>\n",
       "</table>\n",
       "</div>"
      ],
      "text/plain": [
       "   ID           City Country  Latitude  Longitude                 Time  \\\n",
       "0   2     Butaritari      KI    3.0707   172.7902  2021-01-09 20:45:49   \n",
       "1  26  San Policarpo      PH   12.1791   125.5072  2021-01-09 20:45:54   \n",
       "\n",
       "            Description  Max Temp  Humidity  Wind Speed  Cloudiness    Rain  \\\n",
       "0            light rain     81.70        80       21.07          62  0.2200   \n",
       "1  heavy intensity rain     80.11        85       19.33         100  5.0126   \n",
       "\n",
       "   Snow               Hotel  \n",
       "0   0.0  Isles Sunset Lodge  \n",
       "1   0.0            JM Lodge  "
      ]
     },
     "execution_count": 13,
     "metadata": {},
     "output_type": "execute_result"
    }
   ],
   "source": [
    "# Save hotel data\n",
    "hotels.to_csv('data/hotels.csv', index=False)\n",
    "pd.read_csv('data/hotels.csv').head(2)"
   ]
  },
  {
   "cell_type": "code",
   "execution_count": null,
   "metadata": {},
   "outputs": [],
   "source": []
  }
 ],
 "metadata": {
  "kernelspec": {
   "display_name": "Python 3",
   "language": "python",
   "name": "python3"
  },
  "language_info": {
   "codemirror_mode": {
    "name": "ipython",
    "version": 3
   },
   "file_extension": ".py",
   "mimetype": "text/x-python",
   "name": "python",
   "nbconvert_exporter": "python",
   "pygments_lexer": "ipython3",
   "version": "3.7.9"
  }
 },
 "nbformat": 4,
 "nbformat_minor": 4
}
