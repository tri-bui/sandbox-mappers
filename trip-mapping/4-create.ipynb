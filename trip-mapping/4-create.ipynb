{
 "cells": [
  {
   "cell_type": "markdown",
   "metadata": {},
   "source": [
    "# Trip Mapping - Itinerary Creation\n",
    "\n",
    "### Dependencies and data"
   ]
  },
  {
   "cell_type": "code",
   "execution_count": 1,
   "metadata": {},
   "outputs": [],
   "source": [
    "# Dependencies\n",
    "import os\n",
    "import gmaps\n",
    "import pandas as pd\n",
    "from config import GMAPS_KEY"
   ]
  },
  {
   "cell_type": "code",
   "execution_count": 2,
   "metadata": {},
   "outputs": [],
   "source": [
    "# Configure API key\n",
    "gmaps.configure(api_key=GMAPS_KEY)"
   ]
  },
  {
   "cell_type": "code",
   "execution_count": 3,
   "metadata": {},
   "outputs": [
    {
     "data": {
      "text/html": [
       "<div>\n",
       "<style scoped>\n",
       "    .dataframe tbody tr th:only-of-type {\n",
       "        vertical-align: middle;\n",
       "    }\n",
       "\n",
       "    .dataframe tbody tr th {\n",
       "        vertical-align: top;\n",
       "    }\n",
       "\n",
       "    .dataframe thead th {\n",
       "        text-align: right;\n",
       "    }\n",
       "</style>\n",
       "<table border=\"1\" class=\"dataframe\">\n",
       "  <thead>\n",
       "    <tr style=\"text-align: right;\">\n",
       "      <th></th>\n",
       "      <th>Id</th>\n",
       "      <th>City</th>\n",
       "      <th>Country</th>\n",
       "      <th>Latitude</th>\n",
       "      <th>Longitude</th>\n",
       "      <th>Time</th>\n",
       "      <th>Description</th>\n",
       "      <th>Max Temp</th>\n",
       "      <th>Humidity</th>\n",
       "      <th>Wind Speed</th>\n",
       "      <th>Cloudiness</th>\n",
       "      <th>Rain</th>\n",
       "      <th>Snow</th>\n",
       "      <th>Hotel</th>\n",
       "    </tr>\n",
       "  </thead>\n",
       "  <tbody>\n",
       "    <tr>\n",
       "      <th>0</th>\n",
       "      <td>1</td>\n",
       "      <td>Vendas Novas</td>\n",
       "      <td>PT</td>\n",
       "      <td>38.6771</td>\n",
       "      <td>-8.4579</td>\n",
       "      <td>2021-04-18 15:28:30</td>\n",
       "      <td>few clouds</td>\n",
       "      <td>73.4</td>\n",
       "      <td>46</td>\n",
       "      <td>12.66</td>\n",
       "      <td>20</td>\n",
       "      <td>0</td>\n",
       "      <td>0</td>\n",
       "      <td>Hotel Acez</td>\n",
       "    </tr>\n",
       "    <tr>\n",
       "      <th>1</th>\n",
       "      <td>4</td>\n",
       "      <td>Cap Malheureux</td>\n",
       "      <td>MU</td>\n",
       "      <td>-19.9842</td>\n",
       "      <td>57.6142</td>\n",
       "      <td>2021-04-18 15:28:32</td>\n",
       "      <td>overcast clouds</td>\n",
       "      <td>77.0</td>\n",
       "      <td>84</td>\n",
       "      <td>3.00</td>\n",
       "      <td>100</td>\n",
       "      <td>0</td>\n",
       "      <td>0</td>\n",
       "      <td>Pereybere Hotel &amp; Spa</td>\n",
       "    </tr>\n",
       "  </tbody>\n",
       "</table>\n",
       "</div>"
      ],
      "text/plain": [
       "   Id            City Country  Latitude  Longitude                 Time  \\\n",
       "0   1    Vendas Novas      PT   38.6771    -8.4579  2021-04-18 15:28:30   \n",
       "1   4  Cap Malheureux      MU  -19.9842    57.6142  2021-04-18 15:28:32   \n",
       "\n",
       "       Description  Max Temp  Humidity  Wind Speed  Cloudiness  Rain  Snow  \\\n",
       "0       few clouds      73.4        46       12.66          20     0     0   \n",
       "1  overcast clouds      77.0        84        3.00         100     0     0   \n",
       "\n",
       "                   Hotel  \n",
       "0             Hotel Acez  \n",
       "1  Pereybere Hotel & Spa  "
      ]
     },
     "execution_count": 3,
     "metadata": {},
     "output_type": "execute_result"
    }
   ],
   "source": [
    "# Hotel data\n",
    "data_path = os.path.join('data', 'hotels.csv')\n",
    "hotel_df = pd.read_csv(data_path)\n",
    "hotel_df.head(2)"
   ]
  },
  {
   "cell_type": "markdown",
   "metadata": {},
   "source": [
    "### Narrow search and find 4-5 nearby cities"
   ]
  },
  {
   "cell_type": "code",
   "execution_count": 4,
   "metadata": {},
   "outputs": [
    {
     "data": {
      "text/plain": [
       "(70.0, 79.93)"
      ]
     },
     "execution_count": 4,
     "metadata": {},
     "output_type": "execute_result"
    }
   ],
   "source": [
    "# Lowest and highest `Max Temp` in the data\n",
    "min_mt, max_mt = hotel_df['Max Temp'].min(), hotel_df['Max Temp'].max()\n",
    "min_mt, max_mt"
   ]
  },
  {
   "cell_type": "code",
   "execution_count": 5,
   "metadata": {},
   "outputs": [
    {
     "name": "stdout",
     "output_type": "stream",
     "text": [
      "1. What is the lowest temperature you would like at your destination?\n",
      "\tEnter a number between 70.0 and 79.93: 76\n",
      "2. What is the highest temperature you would like at your destination?\n",
      "\tEnter a number between 76.0 and 79.93: 78\n",
      "3. Would you like it to rain at your destination? (yes/no) no\n",
      "4. Would you like it to snow at your destination? (yes/no) no\n"
     ]
    },
    {
     "data": {
      "text/plain": [
       "(76.0, 78.0, 0, 0)"
      ]
     },
     "execution_count": 5,
     "metadata": {},
     "output_type": "execute_result"
    }
   ],
   "source": [
    "def user_input(prompt, min_temp=min_mt, max_temp=max_mt, binary=False):\n",
    "    \n",
    "    \"\"\"\n",
    "    Take user input for weather preferences.\n",
    "    \n",
    "    Parameters\n",
    "    ----------\n",
    "    prompt : str\n",
    "        Input prompt\n",
    "    min_temp : float, optional\n",
    "        Minimum temperature in data, by default {min_mt}\n",
    "    max_temp : float, optional\n",
    "        Maximum temperature in data, by default {max_mt}\n",
    "    binary : bool, optional\n",
    "        Whether the input should be \"yes\" or \"no\" only, by default False\n",
    "        \n",
    "    Returns\n",
    "    -------\n",
    "    float\n",
    "        User input\n",
    "    \"\"\"\n",
    "    \n",
    "    # Init user input and loop condition to False\n",
    "    i = b = False\n",
    "    \n",
    "    # Get user input\n",
    "    if binary: # yes/no input\n",
    "        while i not in ['yes', 'no']: # continue until input is either \"yes\" or \"no\"\n",
    "            i = input(prompt) # user input\n",
    "        i = 1 if i == 'yes' else 0 # convert input to num\n",
    "    else: \n",
    "        prompt += f'\\tEnter a number between {min_temp} and {max_temp}: ' \n",
    "        while not b: # loop condition\n",
    "            try:\n",
    "                i = float(input(prompt)) # get user input as num\n",
    "            except:\n",
    "                continue\n",
    "            if min_temp <= i <= max_temp: # check if user input is within proper temperature range\n",
    "                b = True # end loop\n",
    "            \n",
    "    # Numeric input\n",
    "    return i\n",
    "        \n",
    "    \n",
    "# Get preferred weather\n",
    "min_temp = user_input('1. What is the lowest temperature you would like at your destination?\\n')\n",
    "max_temp = user_input('2. What is the highest temperature you would like at your destination?\\n', min_temp=min_temp)\n",
    "rain = user_input('3. Would you like it to rain at your destination? (yes/no) ', binary=True)\n",
    "snow = user_input('4. Would you like it to snow at your destination? (yes/no) ', binary=True)\n",
    "min_temp, max_temp, rain, snow # enter 76, 78, no, no"
   ]
  },
  {
   "cell_type": "code",
   "execution_count": 6,
   "metadata": {},
   "outputs": [
    {
     "data": {
      "text/plain": [
       "(61, 14)"
      ]
     },
     "execution_count": 6,
     "metadata": {},
     "output_type": "execute_result"
    }
   ],
   "source": [
    "# Filter for cities with the temp preference\n",
    "pref_cities = hotel_df.loc[(hotel_df['Max Temp'] >= min_temp) & \n",
    "                           (hotel_df['Max Temp'] <= max_temp)]\n",
    "\n",
    "# Filter rain preference\n",
    "if rain:\n",
    "    pref_cities = pref_cities.query('Rain > 0')\n",
    "else:\n",
    "    pref_cities = pref_cities.query('Rain == 0')\n",
    "\n",
    "# Filter snow preference\n",
    "if snow:\n",
    "    pref_cities = pref_cities.query('Snow > 0')\n",
    "else:\n",
    "    pref_cities = pref_cities.query('Snow == 0')\n",
    "    \n",
    "pref_cities.shape"
   ]
  },
  {
   "cell_type": "markdown",
   "metadata": {},
   "source": [
    "### Temperature heatmap"
   ]
  },
  {
   "cell_type": "code",
   "execution_count": 7,
   "metadata": {},
   "outputs": [],
   "source": [
    "# For Jupyterlab\n",
    "# !jupyter labextension install @jupyter-widgets/jupyterlab-manager\n",
    "# !jupyter lab build"
   ]
  },
  {
   "cell_type": "code",
   "execution_count": 8,
   "metadata": {},
   "outputs": [
    {
     "data": {
      "application/vnd.jupyter.widget-view+json": {
       "model_id": "9dc45ccc64754f1898543416c6b5b73b",
       "version_major": 2,
       "version_minor": 0
      },
      "text/plain": [
       "Figure(layout=FigureLayout(height='420px'))"
      ]
     },
     "metadata": {},
     "output_type": "display_data"
    }
   ],
   "source": [
    "# Locations and measurements\n",
    "locations = pref_cities[['Latitude', 'Longitude']]\n",
    "weights = pref_cities['Max Temp'].apply(lambda t: max(t, 0))\n",
    "\n",
    "# Popup info box\n",
    "hotel_info = \"\"\"\n",
    "<dl>\n",
    "<dt>Hotel</dt><dd>{Hotel}</dd>\n",
    "<dt>City</dt><dd>{City}, {Country}</dd>\n",
    "<dt>Weather</dt><dd>{Max Temp} F - {Description}</dd>\n",
    "</dl>\n",
    "\"\"\"\n",
    "\n",
    "# Layers\n",
    "heatmap = gmaps.heatmap_layer(locations, weights, dissipating=False, point_radius=3, max_intensity=300)\n",
    "markers = gmaps.marker_layer(locations,\n",
    "                             info_box_content=[hotel_info.format(**row) for _, row in pref_cities.iterrows()])\n",
    "\n",
    "# Heatmap\n",
    "fig = gmaps.figure(center=(0.0, 0.0), zoom_level=1.5)\n",
    "fig.add_layer(heatmap)\n",
    "fig.add_layer(markers)\n",
    "fig"
   ]
  },
  {
   "cell_type": "markdown",
   "metadata": {},
   "source": [
    "### Create travel itinerary"
   ]
  },
  {
   "cell_type": "code",
   "execution_count": 9,
   "metadata": {},
   "outputs": [
    {
     "data": {
      "text/html": [
       "<div>\n",
       "<style scoped>\n",
       "    .dataframe tbody tr th:only-of-type {\n",
       "        vertical-align: middle;\n",
       "    }\n",
       "\n",
       "    .dataframe tbody tr th {\n",
       "        vertical-align: top;\n",
       "    }\n",
       "\n",
       "    .dataframe thead th {\n",
       "        text-align: right;\n",
       "    }\n",
       "</style>\n",
       "<table border=\"1\" class=\"dataframe\">\n",
       "  <thead>\n",
       "    <tr style=\"text-align: right;\">\n",
       "      <th></th>\n",
       "      <th>Id</th>\n",
       "      <th>City</th>\n",
       "      <th>Country</th>\n",
       "      <th>Latitude</th>\n",
       "      <th>Longitude</th>\n",
       "      <th>Time</th>\n",
       "      <th>Description</th>\n",
       "      <th>Max Temp</th>\n",
       "      <th>Humidity</th>\n",
       "      <th>Wind Speed</th>\n",
       "      <th>Cloudiness</th>\n",
       "      <th>Rain</th>\n",
       "      <th>Snow</th>\n",
       "      <th>Hotel</th>\n",
       "    </tr>\n",
       "  </thead>\n",
       "  <tbody>\n",
       "    <tr>\n",
       "      <th>90</th>\n",
       "      <td>423</td>\n",
       "      <td>Cabedelo</td>\n",
       "      <td>BR</td>\n",
       "      <td>-6.9811</td>\n",
       "      <td>-34.8339</td>\n",
       "      <td>2021-04-18 15:31:24</td>\n",
       "      <td>broken clouds</td>\n",
       "      <td>77.00</td>\n",
       "      <td>94</td>\n",
       "      <td>5.75</td>\n",
       "      <td>75</td>\n",
       "      <td>0</td>\n",
       "      <td>0</td>\n",
       "      <td>Hotel Pigalle</td>\n",
       "    </tr>\n",
       "    <tr>\n",
       "      <th>104</th>\n",
       "      <td>483</td>\n",
       "      <td>Pitimbu</td>\n",
       "      <td>BR</td>\n",
       "      <td>-7.4706</td>\n",
       "      <td>-34.8086</td>\n",
       "      <td>2021-04-18 15:31:48</td>\n",
       "      <td>broken clouds</td>\n",
       "      <td>77.00</td>\n",
       "      <td>94</td>\n",
       "      <td>5.75</td>\n",
       "      <td>75</td>\n",
       "      <td>0</td>\n",
       "      <td>0</td>\n",
       "      <td>Reserva do Abiaí</td>\n",
       "    </tr>\n",
       "    <tr>\n",
       "      <th>105</th>\n",
       "      <td>488</td>\n",
       "      <td>Carutapera</td>\n",
       "      <td>BR</td>\n",
       "      <td>-1.1950</td>\n",
       "      <td>-46.0200</td>\n",
       "      <td>2021-04-18 15:31:50</td>\n",
       "      <td>moderate rain</td>\n",
       "      <td>77.61</td>\n",
       "      <td>92</td>\n",
       "      <td>4.45</td>\n",
       "      <td>100</td>\n",
       "      <td>0</td>\n",
       "      <td>0</td>\n",
       "      <td>Lidera</td>\n",
       "    </tr>\n",
       "    <tr>\n",
       "      <th>117</th>\n",
       "      <td>555</td>\n",
       "      <td>Miracema do Tocantins</td>\n",
       "      <td>BR</td>\n",
       "      <td>-9.5618</td>\n",
       "      <td>-48.3967</td>\n",
       "      <td>2021-04-18 15:32:17</td>\n",
       "      <td>overcast clouds</td>\n",
       "      <td>77.25</td>\n",
       "      <td>84</td>\n",
       "      <td>3.38</td>\n",
       "      <td>99</td>\n",
       "      <td>0</td>\n",
       "      <td>0</td>\n",
       "      <td>Miami Apart Hotel</td>\n",
       "    </tr>\n",
       "  </tbody>\n",
       "</table>\n",
       "</div>"
      ],
      "text/plain": [
       "      Id                   City Country  Latitude  Longitude  \\\n",
       "90   423               Cabedelo      BR   -6.9811   -34.8339   \n",
       "104  483                Pitimbu      BR   -7.4706   -34.8086   \n",
       "105  488             Carutapera      BR   -1.1950   -46.0200   \n",
       "117  555  Miracema do Tocantins      BR   -9.5618   -48.3967   \n",
       "\n",
       "                    Time      Description  Max Temp  Humidity  Wind Speed  \\\n",
       "90   2021-04-18 15:31:24    broken clouds     77.00        94        5.75   \n",
       "104  2021-04-18 15:31:48    broken clouds     77.00        94        5.75   \n",
       "105  2021-04-18 15:31:50    moderate rain     77.61        92        4.45   \n",
       "117  2021-04-18 15:32:17  overcast clouds     77.25        84        3.38   \n",
       "\n",
       "     Cloudiness  Rain  Snow              Hotel  \n",
       "90           75     0     0      Hotel Pigalle  \n",
       "104          75     0     0   Reserva do Abiaí  \n",
       "105         100     0     0             Lidera  \n",
       "117          99     0     0  Miami Apart Hotel  "
      ]
     },
     "execution_count": 9,
     "metadata": {},
     "output_type": "execute_result"
    }
   ],
   "source": [
    "# Select cities\n",
    "cities = ['Miracema do Tocantins', 'Carutapera', 'Cabedelo', 'Pitimbu']\n",
    "cities_df = pref_cities[pref_cities['City'].isin(cities)]\n",
    "cities_df"
   ]
  },
  {
   "cell_type": "code",
   "execution_count": 10,
   "metadata": {},
   "outputs": [
    {
     "data": {
      "text/plain": [
       "array([[ -9.5618, -48.3967],\n",
       "       [ -7.4706, -34.8086],\n",
       "       [ -1.195 , -46.02  ],\n",
       "       [ -6.9811, -34.8339]])"
      ]
     },
     "execution_count": 10,
     "metadata": {},
     "output_type": "execute_result"
    }
   ],
   "source": [
    "# Extract coordinates for each city\n",
    "cities_df = cities_df.loc[[117, 104, 105, 90]]\n",
    "locations = cities_df[['Latitude', 'Longitude']].values\n",
    "locations"
   ]
  },
  {
   "cell_type": "code",
   "execution_count": 11,
   "metadata": {
    "scrolled": false
   },
   "outputs": [
    {
     "data": {
      "application/vnd.jupyter.widget-view+json": {
       "model_id": "faaaaa8bb42e4554b8433465e182a2f5",
       "version_major": 2,
       "version_minor": 0
      },
      "text/plain": [
       "Figure(layout=FigureLayout(height='420px'))"
      ]
     },
     "metadata": {},
     "output_type": "display_data"
    }
   ],
   "source": [
    "# Info\n",
    "city_info = \"\"\"\n",
    "<dl>\n",
    "<dt>Hotel</dt><dd>{Hotel}</dd>\n",
    "<dt>City</dt><dd>{City}, {Country}</dd>\n",
    "<dt>Weather</dt><dd>{Max Temp} F - {Description}</dd>\n",
    "</dl>\n",
    "\"\"\"\n",
    "\n",
    "# Layers\n",
    "directions = gmaps.directions_layer(start=locations[0], end=locations[1], \n",
    "                                    waypoints=locations[2:], show_markers=False)\n",
    "markers = gmaps.marker_layer(locations,\n",
    "                             info_box_content=[city_info.format(**row) for idx, row in cities_df.iterrows()])\n",
    "\n",
    "# Map\n",
    "fig = gmaps.figure(center=(-5.0, -60.0), zoom_level=5)\n",
    "fig.add_layer(directions)\n",
    "fig.add_layer(markers)\n",
    "fig"
   ]
  },
  {
   "cell_type": "code",
   "execution_count": null,
   "metadata": {},
   "outputs": [],
   "source": []
  }
 ],
 "metadata": {
  "kernelspec": {
   "display_name": "Python [conda env:PythonData] *",
   "language": "python",
   "name": "conda-env-PythonData-py"
  },
  "language_info": {
   "codemirror_mode": {
    "name": "ipython",
    "version": 3
   },
   "file_extension": ".py",
   "mimetype": "text/x-python",
   "name": "python",
   "nbconvert_exporter": "python",
   "pygments_lexer": "ipython3",
   "version": "3.7.10"
  }
 },
 "nbformat": 4,
 "nbformat_minor": 4
}
