{
 "cells": [
  {
   "cell_type": "markdown",
   "metadata": {},
   "source": [
    "# Trip Mapping - Hotel Search\n",
    "\n",
    "### Dependencies and data"
   ]
  },
  {
   "cell_type": "code",
   "execution_count": 1,
   "metadata": {},
   "outputs": [],
   "source": [
    "# Dependencies\n",
    "import os\n",
    "import requests\n",
    "import gmaps\n",
    "import numpy as np\n",
    "import pandas as pd\n",
    "from config import GMAPS_KEY"
   ]
  },
  {
   "cell_type": "code",
   "execution_count": 2,
   "metadata": {},
   "outputs": [],
   "source": [
    "# Configure API key\n",
    "gmaps.configure(api_key=GMAPS_KEY)"
   ]
  },
  {
   "cell_type": "code",
   "execution_count": 3,
   "metadata": {},
   "outputs": [
    {
     "data": {
      "text/html": [
       "<div>\n",
       "<style scoped>\n",
       "    .dataframe tbody tr th:only-of-type {\n",
       "        vertical-align: middle;\n",
       "    }\n",
       "\n",
       "    .dataframe tbody tr th {\n",
       "        vertical-align: top;\n",
       "    }\n",
       "\n",
       "    .dataframe thead th {\n",
       "        text-align: right;\n",
       "    }\n",
       "</style>\n",
       "<table border=\"1\" class=\"dataframe\">\n",
       "  <thead>\n",
       "    <tr style=\"text-align: right;\">\n",
       "      <th></th>\n",
       "      <th>Id</th>\n",
       "      <th>City</th>\n",
       "      <th>Country</th>\n",
       "      <th>Latitude</th>\n",
       "      <th>Longitude</th>\n",
       "      <th>Time</th>\n",
       "      <th>Description</th>\n",
       "      <th>Max Temp</th>\n",
       "      <th>Humidity</th>\n",
       "      <th>Wind Speed</th>\n",
       "      <th>Cloudiness</th>\n",
       "      <th>Rain</th>\n",
       "      <th>Snow</th>\n",
       "    </tr>\n",
       "  </thead>\n",
       "  <tbody>\n",
       "    <tr>\n",
       "      <th>0</th>\n",
       "      <td>0</td>\n",
       "      <td>Garoowe</td>\n",
       "      <td>SO</td>\n",
       "      <td>8.4054</td>\n",
       "      <td>48.4845</td>\n",
       "      <td>2021-04-18 15:28:30</td>\n",
       "      <td>clear sky</td>\n",
       "      <td>89.92</td>\n",
       "      <td>30</td>\n",
       "      <td>16.42</td>\n",
       "      <td>6</td>\n",
       "      <td>0</td>\n",
       "      <td>0</td>\n",
       "    </tr>\n",
       "    <tr>\n",
       "      <th>1</th>\n",
       "      <td>1</td>\n",
       "      <td>Vendas Novas</td>\n",
       "      <td>PT</td>\n",
       "      <td>38.6771</td>\n",
       "      <td>-8.4579</td>\n",
       "      <td>2021-04-18 15:28:30</td>\n",
       "      <td>few clouds</td>\n",
       "      <td>73.40</td>\n",
       "      <td>46</td>\n",
       "      <td>12.66</td>\n",
       "      <td>20</td>\n",
       "      <td>0</td>\n",
       "      <td>0</td>\n",
       "    </tr>\n",
       "  </tbody>\n",
       "</table>\n",
       "</div>"
      ],
      "text/plain": [
       "   Id          City Country  Latitude  Longitude                 Time  \\\n",
       "0   0       Garoowe      SO    8.4054    48.4845  2021-04-18 15:28:30   \n",
       "1   1  Vendas Novas      PT   38.6771    -8.4579  2021-04-18 15:28:30   \n",
       "\n",
       "  Description  Max Temp  Humidity  Wind Speed  Cloudiness  Rain  Snow  \n",
       "0   clear sky     89.92        30       16.42           6     0     0  \n",
       "1  few clouds     73.40        46       12.66          20     0     0  "
      ]
     },
     "execution_count": 3,
     "metadata": {},
     "output_type": "execute_result"
    }
   ],
   "source": [
    "# Weather data\n",
    "weather_path = os.path.join('data', 'weather.csv')\n",
    "weather_df = pd.read_csv(weather_path)\n",
    "weather_df.head(2)"
   ]
  },
  {
   "cell_type": "markdown",
   "metadata": {},
   "source": [
    "### Find hotels near destinations within the user's preferred weather"
   ]
  },
  {
   "cell_type": "code",
   "execution_count": 4,
   "metadata": {},
   "outputs": [
    {
     "data": {
      "text/plain": [
       "(-17.61, 107.6)"
      ]
     },
     "execution_count": 4,
     "metadata": {},
     "output_type": "execute_result"
    }
   ],
   "source": [
    "# Lowest and highest `Max Temp` in the data\n",
    "min_mt, max_mt = weather_df['Max Temp'].min(), weather_df['Max Temp'].max()\n",
    "min_mt, max_mt"
   ]
  },
  {
   "cell_type": "code",
   "execution_count": 5,
   "metadata": {},
   "outputs": [
    {
     "name": "stdout",
     "output_type": "stream",
     "text": [
      "1. What is the lowest temperature you would like at your destination?\n",
      "\tEnter a number between -17.61 and 107.6: 70\n",
      "2. What is the highest temperature you would like at your destination?\n",
      "\tEnter a number between 70.0 and 107.6: 80\n",
      "3. Would you like it to rain at your destination? (yes/no) no\n",
      "4. Would you like it to snow at your destination? (yes/no) no\n"
     ]
    },
    {
     "data": {
      "text/plain": [
       "(70.0, 80.0, 0, 0)"
      ]
     },
     "execution_count": 5,
     "metadata": {},
     "output_type": "execute_result"
    }
   ],
   "source": [
    "def user_input(prompt, min_temp=min_mt, max_temp=max_mt, binary=False):\n",
    "    \n",
    "    \"\"\"\n",
    "    Take user input for weather preferences.\n",
    "    \n",
    "    Parameters\n",
    "    ----------\n",
    "    prompt : str\n",
    "        Input prompt\n",
    "    min_temp : float, optional\n",
    "        Minimum temperature in data, by default {min_mt}\n",
    "    max_temp : float, optional\n",
    "        Maximum temperature in data, by default {max_mt}\n",
    "    binary : bool, optional\n",
    "        Whether the input should be \"yes\" or \"no\" only, by default False\n",
    "        \n",
    "    Returns\n",
    "    -------\n",
    "    float\n",
    "        User input\n",
    "    \"\"\"\n",
    "    \n",
    "    # Init user input and loop condition to False\n",
    "    i = b = False\n",
    "    \n",
    "    # Get user input\n",
    "    if binary: # yes/no input\n",
    "        while i not in ['yes', 'no']: # continue until input is either \"yes\" or \"no\"\n",
    "            i = input(prompt) # user input\n",
    "        i = 1 if i == 'yes' else 0 # convert input to num\n",
    "    else: \n",
    "        prompt += f'\\tEnter a number between {min_temp} and {max_temp}: ' \n",
    "        while not b: # loop condition\n",
    "            try:\n",
    "                i = float(input(prompt)) # get user input as num\n",
    "            except:\n",
    "                continue\n",
    "            if min_temp <= i <= max_temp: # check if user input is within proper temperature range\n",
    "                b = True # end loop\n",
    "            \n",
    "    # Numeric input\n",
    "    return i\n",
    "        \n",
    "    \n",
    "# Get preferred weather\n",
    "min_temp = user_input('1. What is the lowest temperature you would like at your destination?\\n')\n",
    "max_temp = user_input('2. What is the highest temperature you would like at your destination?\\n', min_temp=min_temp)\n",
    "rain = user_input('3. Would you like it to rain at your destination? (yes/no) ', binary=True)\n",
    "snow = user_input('4. Would you like it to snow at your destination? (yes/no) ', binary=True)\n",
    "min_temp, max_temp, rain, snow # enter 70, 80, no, no"
   ]
  },
  {
   "cell_type": "code",
   "execution_count": 6,
   "metadata": {},
   "outputs": [
    {
     "data": {
      "text/plain": [
       "(214, 13)"
      ]
     },
     "execution_count": 6,
     "metadata": {},
     "output_type": "execute_result"
    }
   ],
   "source": [
    "# Filter for cities with the temp preference\n",
    "pref_cities = weather_df.loc[(weather_df['Max Temp'] >= min_temp) & \n",
    "                             (weather_df['Max Temp'] <= max_temp)]\n",
    "\n",
    "# Filter rain preference\n",
    "if rain:\n",
    "    pref_cities = pref_cities.query('Rain > 0')\n",
    "else:\n",
    "    pref_cities = pref_cities.query('Rain == 0')\n",
    "\n",
    "# Filter snow preference\n",
    "if snow:\n",
    "    pref_cities = pref_cities.query('Snow > 0')\n",
    "else:\n",
    "    pref_cities = pref_cities.query('Snow == 0')\n",
    "    \n",
    "pref_cities.shape"
   ]
  },
  {
   "cell_type": "code",
   "execution_count": 7,
   "metadata": {},
   "outputs": [
    {
     "data": {
      "text/html": [
       "<div>\n",
       "<style scoped>\n",
       "    .dataframe tbody tr th:only-of-type {\n",
       "        vertical-align: middle;\n",
       "    }\n",
       "\n",
       "    .dataframe tbody tr th {\n",
       "        vertical-align: top;\n",
       "    }\n",
       "\n",
       "    .dataframe thead th {\n",
       "        text-align: right;\n",
       "    }\n",
       "</style>\n",
       "<table border=\"1\" class=\"dataframe\">\n",
       "  <thead>\n",
       "    <tr style=\"text-align: right;\">\n",
       "      <th></th>\n",
       "      <th>Id</th>\n",
       "      <th>City</th>\n",
       "      <th>Country</th>\n",
       "      <th>Latitude</th>\n",
       "      <th>Longitude</th>\n",
       "      <th>Time</th>\n",
       "      <th>Description</th>\n",
       "      <th>Max Temp</th>\n",
       "      <th>Humidity</th>\n",
       "      <th>Wind Speed</th>\n",
       "      <th>Cloudiness</th>\n",
       "      <th>Rain</th>\n",
       "      <th>Snow</th>\n",
       "      <th>Hotel</th>\n",
       "    </tr>\n",
       "  </thead>\n",
       "  <tbody>\n",
       "    <tr>\n",
       "      <th>0</th>\n",
       "      <td>1</td>\n",
       "      <td>Vendas Novas</td>\n",
       "      <td>PT</td>\n",
       "      <td>38.6771</td>\n",
       "      <td>-8.4579</td>\n",
       "      <td>2021-04-18 15:28:30</td>\n",
       "      <td>few clouds</td>\n",
       "      <td>73.4</td>\n",
       "      <td>46</td>\n",
       "      <td>12.66</td>\n",
       "      <td>20</td>\n",
       "      <td>0</td>\n",
       "      <td>0</td>\n",
       "      <td>NaN</td>\n",
       "    </tr>\n",
       "    <tr>\n",
       "      <th>1</th>\n",
       "      <td>4</td>\n",
       "      <td>Cap Malheureux</td>\n",
       "      <td>MU</td>\n",
       "      <td>-19.9842</td>\n",
       "      <td>57.6142</td>\n",
       "      <td>2021-04-18 15:28:32</td>\n",
       "      <td>overcast clouds</td>\n",
       "      <td>77.0</td>\n",
       "      <td>84</td>\n",
       "      <td>3.00</td>\n",
       "      <td>100</td>\n",
       "      <td>0</td>\n",
       "      <td>0</td>\n",
       "      <td>NaN</td>\n",
       "    </tr>\n",
       "  </tbody>\n",
       "</table>\n",
       "</div>"
      ],
      "text/plain": [
       "   Id            City Country  Latitude  Longitude                 Time  \\\n",
       "0   1    Vendas Novas      PT   38.6771    -8.4579  2021-04-18 15:28:30   \n",
       "1   4  Cap Malheureux      MU  -19.9842    57.6142  2021-04-18 15:28:32   \n",
       "\n",
       "       Description  Max Temp  Humidity  Wind Speed  Cloudiness  Rain  Snow  \\\n",
       "0       few clouds      73.4        46       12.66          20     0     0   \n",
       "1  overcast clouds      77.0        84        3.00         100     0     0   \n",
       "\n",
       "   Hotel  \n",
       "0    NaN  \n",
       "1    NaN  "
      ]
     },
     "execution_count": 7,
     "metadata": {},
     "output_type": "execute_result"
    }
   ],
   "source": [
    "# New df for hotels\n",
    "hotel_df = pref_cities.reset_index(drop=True)\n",
    "hotel_df['Hotel'] = np.NaN # new col for hotels\n",
    "\n",
    "# Base url and params for GMaps Places API\n",
    "base_url = 'https://maps.googleapis.com/maps/api/place/nearbysearch/json'\n",
    "payload = {\n",
    "    'key': GMAPS_KEY,\n",
    "    'type': 'lodging', # hotels\n",
    "    'radius': 5000 # meters\n",
    "}\n",
    "\n",
    "hotel_df.head(2)"
   ]
  },
  {
   "cell_type": "code",
   "execution_count": 8,
   "metadata": {},
   "outputs": [
    {
     "data": {
      "text/plain": [
       "{'business_status': 'OPERATIONAL',\n",
       " 'geometry': {'location': {'lat': 38.678971, 'lng': -8.4540926},\n",
       "  'viewport': {'northeast': {'lat': 38.68035083029149,\n",
       "    'lng': -8.452834669708498},\n",
       "   'southwest': {'lat': 38.6776528697085, 'lng': -8.455532630291502}}},\n",
       " 'icon': 'https://maps.gstatic.com/mapfiles/place_api/icons/v1/png_71/lodging-71.png',\n",
       " 'name': 'Hotel Acez',\n",
       " 'opening_hours': {'open_now': True},\n",
       " 'photos': [{'height': 308,\n",
       "   'html_attributions': ['<a href=\"https://maps.google.com/maps/contrib/106452238628115940643\">Hotel Acez</a>'],\n",
       "   'photo_reference': 'ATtYBwLxSYI6Jl_XDGHk99HPEwXn2MdTjxisBPixYbfS8glsu8jru07i_qefmXaJVh2y5lYkWOhuuqfCD6gahO3KFtWjaZlpd83aW2Xoia7aTIc-MN4gX1dMC4HiPGlzUTjsNvQ4uvHjYY0Aw2dO-ddbdyZ7Y2D_CQYerqa5fYFNGyO_VJ9q',\n",
       "   'width': 396}],\n",
       " 'place_id': 'ChIJY6477IifGQ0RgEEsyPVyccQ',\n",
       " 'plus_code': {'compound_code': 'MGHW+H9 Vendas Novas, Portugal',\n",
       "  'global_code': '8CCHMGHW+H9'},\n",
       " 'rating': 4.1,\n",
       " 'reference': 'ChIJY6477IifGQ0RgEEsyPVyccQ',\n",
       " 'scope': 'GOOGLE',\n",
       " 'types': ['lodging', 'point_of_interest', 'establishment'],\n",
       " 'user_ratings_total': 159,\n",
       " 'vicinity': 'Largo 5 de Outubro, Vendas Novas'}"
      ]
     },
     "execution_count": 8,
     "metadata": {},
     "output_type": "execute_result"
    }
   ],
   "source": [
    "# Sample hotel response\n",
    "payload['location'] = f\"{hotel_df.loc[0, 'Latitude']},{hotel_df.loc[0, 'Longitude']}\" # 1st city\n",
    "response = requests.get(base_url, params=payload)\n",
    "response.json()['results'][0]"
   ]
  },
  {
   "cell_type": "code",
   "execution_count": 9,
   "metadata": {},
   "outputs": [
    {
     "name": "stdout",
     "output_type": "stream",
     "text": [
      "Starting hotel requests...\n",
      "Requested hotels for 50 locations.\n",
      "Requested hotels for 100 locations.\n",
      "Requested hotels for 150 locations.\n",
      "Requested hotels for 200 locations.\n",
      "Requested hotels for 213 locations.\n",
      "Hotel requests complete.\n",
      "\n",
      "Hotels were not found for the following cities:\n",
      "18 ['Farah', 'Kisanga', 'Issenye', 'Aripuanã', 'Mitú', 'Dutlwe', 'Abadan', 'Tadine', 'Amapá', 'Bondo', 'Maneromango', 'Gandajika', 'Micomeseng', 'Nālūt', 'Micheweni', 'Aketi', 'Caconda', 'Poya']\n"
     ]
    }
   ],
   "source": [
    "# Indices of cities without results\n",
    "hotel404 = []\n",
    "print('Starting hotel requests...')\n",
    "\n",
    "# Find nearest hotel for each city\n",
    "for idx, row in hotel_df.iterrows():\n",
    "    \n",
    "    # Print progress\n",
    "    if (idx > 0 and idx % 50 == 0) or idx == hotel_df.shape[0] - 1:\n",
    "        print(f'Requested hotels for {idx} locations.')\n",
    "        \n",
    "    # Request hotels\n",
    "    payload['location'] = f'{row[\"Latitude\"]}, {row[\"Longitude\"]}' # city coordinates\n",
    "    try:\n",
    "        response = requests.get(base_url, params=payload).json()\n",
    "        hotel_df.loc[idx, 'Hotel'] = response['results'][0]['name']\n",
    "    except:\n",
    "        hotel404.append(idx)\n",
    "        \n",
    "print('Hotel requests complete.\\n')\n",
    "print('Hotels were not found for the following cities:')\n",
    "print(len(hotel404), hotel_df.loc[hotel404, 'City'].tolist())"
   ]
  },
  {
   "cell_type": "code",
   "execution_count": 10,
   "metadata": {},
   "outputs": [
    {
     "data": {
      "text/plain": [
       "(194, 14)"
      ]
     },
     "execution_count": 10,
     "metadata": {},
     "output_type": "execute_result"
    }
   ],
   "source": [
    "# Drop cities without hotel results\n",
    "hotel_df.dropna(inplace=True)\n",
    "hotel_df.shape"
   ]
  },
  {
   "cell_type": "markdown",
   "metadata": {},
   "source": [
    "### Temperature heatmap"
   ]
  },
  {
   "cell_type": "code",
   "execution_count": 11,
   "metadata": {},
   "outputs": [],
   "source": [
    "# For Jupyterlab\n",
    "# !jupyter labextension install @jupyter-widgets/jupyterlab-manager\n",
    "# !jupyter lab build"
   ]
  },
  {
   "cell_type": "code",
   "execution_count": 14,
   "metadata": {},
   "outputs": [
    {
     "data": {
      "application/vnd.jupyter.widget-view+json": {
       "model_id": "da4c0d2b9fa74790946d8e6fc562cb7a",
       "version_major": 2,
       "version_minor": 0
      },
      "text/plain": [
       "Figure(layout=FigureLayout(height='420px'))"
      ]
     },
     "metadata": {},
     "output_type": "display_data"
    }
   ],
   "source": [
    "# Locations and measurements\n",
    "locations = hotel_df[['Latitude', 'Longitude']]\n",
    "weights = hotel_df['Max Temp'].apply(lambda t: max(t, 0))\n",
    "\n",
    "# Popup info box\n",
    "hotel_info = \"\"\"\n",
    "<dl>\n",
    "<dt>Hotel</dt><dd>{Hotel}</dd>\n",
    "<dt>City</dt><dd>{City}, {Country}</dd>\n",
    "<dt>Weather</dt><dd>{Max Temp} F - {Description}</dd>\n",
    "</dl>\n",
    "\"\"\"\n",
    "\n",
    "# Layers\n",
    "heatmap = gmaps.heatmap_layer(locations, weights, dissipating=False, point_radius=3, max_intensity=300)\n",
    "markers = gmaps.marker_layer(locations,\n",
    "                             info_box_content=[hotel_info.format(**row) for _, row in hotel_df.iterrows()])\n",
    "\n",
    "# Heatmap\n",
    "fig = gmaps.figure(center=(0.0, 0.0), zoom_level=1.5)\n",
    "fig.add_layer(heatmap)\n",
    "fig.add_layer(markers)\n",
    "fig"
   ]
  },
  {
   "cell_type": "code",
   "execution_count": 15,
   "metadata": {},
   "outputs": [
    {
     "name": "stdout",
     "output_type": "stream",
     "text": [
      "<class 'pandas.core.frame.DataFrame'>\n",
      "RangeIndex: 194 entries, 0 to 193\n",
      "Data columns (total 14 columns):\n",
      " #   Column       Non-Null Count  Dtype  \n",
      "---  ------       --------------  -----  \n",
      " 0   Id           194 non-null    int64  \n",
      " 1   City         194 non-null    object \n",
      " 2   Country      194 non-null    object \n",
      " 3   Latitude     194 non-null    float64\n",
      " 4   Longitude    194 non-null    float64\n",
      " 5   Time         194 non-null    object \n",
      " 6   Description  194 non-null    object \n",
      " 7   Max Temp     194 non-null    float64\n",
      " 8   Humidity     194 non-null    int64  \n",
      " 9   Wind Speed   194 non-null    float64\n",
      " 10  Cloudiness   194 non-null    int64  \n",
      " 11  Rain         194 non-null    int64  \n",
      " 12  Snow         194 non-null    int64  \n",
      " 13  Hotel        194 non-null    object \n",
      "dtypes: float64(4), int64(5), object(5)\n",
      "memory usage: 21.3+ KB\n"
     ]
    }
   ],
   "source": [
    "# Save hotel data\n",
    "hotel_path = os.path.join('data', 'hotels.csv')\n",
    "hotel_df.to_csv(hotel_path, index=False)\n",
    "pd.read_csv(hotel_path).info()"
   ]
  },
  {
   "cell_type": "code",
   "execution_count": null,
   "metadata": {},
   "outputs": [],
   "source": []
  }
 ],
 "metadata": {
  "kernelspec": {
   "display_name": "Python [conda env:PythonData] *",
   "language": "python",
   "name": "conda-env-PythonData-py"
  },
  "language_info": {
   "codemirror_mode": {
    "name": "ipython",
    "version": 3
   },
   "file_extension": ".py",
   "mimetype": "text/x-python",
   "name": "python",
   "nbconvert_exporter": "python",
   "pygments_lexer": "ipython3",
   "version": "3.7.10"
  }
 },
 "nbformat": 4,
 "nbformat_minor": 4
}
