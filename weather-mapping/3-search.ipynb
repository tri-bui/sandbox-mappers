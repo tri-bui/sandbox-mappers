{
 "cells": [
  {
   "cell_type": "markdown",
   "metadata": {},
   "source": [
    "# WeatherPy - Hotel Search\n",
    "\n",
    "### Dependencies and data"
   ]
  },
  {
   "cell_type": "code",
   "execution_count": 1,
   "metadata": {},
   "outputs": [],
   "source": [
    "# Dependencies\n",
    "import os\n",
    "import requests\n",
    "import gmaps\n",
    "import numpy as np\n",
    "import pandas as pd\n",
    "from config import GMAPS_KEY"
   ]
  },
  {
   "cell_type": "code",
   "execution_count": 2,
   "metadata": {},
   "outputs": [],
   "source": [
    "# Configure API key\n",
    "gmaps.configure(api_key=GMAPS_KEY)"
   ]
  },
  {
   "cell_type": "code",
   "execution_count": 3,
   "metadata": {},
   "outputs": [
    {
     "data": {
      "text/html": [
       "<div>\n",
       "<style scoped>\n",
       "    .dataframe tbody tr th:only-of-type {\n",
       "        vertical-align: middle;\n",
       "    }\n",
       "\n",
       "    .dataframe tbody tr th {\n",
       "        vertical-align: top;\n",
       "    }\n",
       "\n",
       "    .dataframe thead th {\n",
       "        text-align: right;\n",
       "    }\n",
       "</style>\n",
       "<table border=\"1\" class=\"dataframe\">\n",
       "  <thead>\n",
       "    <tr style=\"text-align: right;\">\n",
       "      <th></th>\n",
       "      <th>Id</th>\n",
       "      <th>City</th>\n",
       "      <th>Country</th>\n",
       "      <th>Latitude</th>\n",
       "      <th>Longitude</th>\n",
       "      <th>Time</th>\n",
       "      <th>Description</th>\n",
       "      <th>Max Temp</th>\n",
       "      <th>Humidity</th>\n",
       "      <th>Wind Speed</th>\n",
       "      <th>Cloudiness</th>\n",
       "      <th>Rain</th>\n",
       "      <th>Snow</th>\n",
       "    </tr>\n",
       "  </thead>\n",
       "  <tbody>\n",
       "    <tr>\n",
       "      <th>0</th>\n",
       "      <td>0</td>\n",
       "      <td>Garoowe</td>\n",
       "      <td>SO</td>\n",
       "      <td>8.4054</td>\n",
       "      <td>48.4845</td>\n",
       "      <td>2021-04-18 15:28:30</td>\n",
       "      <td>clear sky</td>\n",
       "      <td>89.92</td>\n",
       "      <td>30</td>\n",
       "      <td>16.42</td>\n",
       "      <td>6</td>\n",
       "      <td>0</td>\n",
       "      <td>0</td>\n",
       "    </tr>\n",
       "    <tr>\n",
       "      <th>1</th>\n",
       "      <td>1</td>\n",
       "      <td>Vendas Novas</td>\n",
       "      <td>PT</td>\n",
       "      <td>38.6771</td>\n",
       "      <td>-8.4579</td>\n",
       "      <td>2021-04-18 15:28:30</td>\n",
       "      <td>few clouds</td>\n",
       "      <td>73.40</td>\n",
       "      <td>46</td>\n",
       "      <td>12.66</td>\n",
       "      <td>20</td>\n",
       "      <td>0</td>\n",
       "      <td>0</td>\n",
       "    </tr>\n",
       "  </tbody>\n",
       "</table>\n",
       "</div>"
      ],
      "text/plain": [
       "   Id          City Country  Latitude  Longitude                 Time  \\\n",
       "0   0       Garoowe      SO    8.4054    48.4845  2021-04-18 15:28:30   \n",
       "1   1  Vendas Novas      PT   38.6771    -8.4579  2021-04-18 15:28:30   \n",
       "\n",
       "  Description  Max Temp  Humidity  Wind Speed  Cloudiness  Rain  Snow  \n",
       "0   clear sky     89.92        30       16.42           6     0     0  \n",
       "1  few clouds     73.40        46       12.66          20     0     0  "
      ]
     },
     "execution_count": 3,
     "metadata": {},
     "output_type": "execute_result"
    }
   ],
   "source": [
    "# Weather data\n",
    "data_path = os.path.join('data', 'weather.csv')\n",
    "weather_df = pd.read_csv(data_path)\n",
    "weather_df.head(2)"
   ]
  },
  {
   "cell_type": "markdown",
   "metadata": {},
   "source": [
    "### Find hotels near destinations within the user's preferred weather"
   ]
  },
  {
   "cell_type": "code",
   "execution_count": 4,
   "metadata": {},
   "outputs": [
    {
     "data": {
      "text/plain": [
       "(-17.61, 107.6)"
      ]
     },
     "execution_count": 4,
     "metadata": {},
     "output_type": "execute_result"
    }
   ],
   "source": [
    "# Lowest and highest `Max Temp` in the data\n",
    "min_mt, max_mt = weather_df['Max Temp'].min(), weather_df['Max Temp'].max()\n",
    "min_mt, max_mt"
   ]
  },
  {
   "cell_type": "code",
   "execution_count": 10,
   "metadata": {},
   "outputs": [
    {
     "name": "stdout",
     "output_type": "stream",
     "text": [
      "1. What is the lowest temperature you would like at your destination?\n",
      "\tEnter a number between -17.61 and 107.6: 70\n",
      "2. What is the highest temperature you would like at your destination?\n",
      "\tEnter a number between 70.0 and 107.6: 90\n",
      "3. Would you like it to rain at your destination? (yes/no) yes\n",
      "4. Would you like it to snow at your destination? (yes/no) no\n"
     ]
    },
    {
     "data": {
      "text/plain": [
       "(70.0, 90.0, 1, 0)"
      ]
     },
     "execution_count": 10,
     "metadata": {},
     "output_type": "execute_result"
    }
   ],
   "source": [
    "def user_input(prompt, min_temp=min_mt, max_temp=max_mt, binary=False):\n",
    "    \n",
    "    \"\"\"\n",
    "    Take user input for weather preferences.\n",
    "    \n",
    "    Parameters\n",
    "    ----------\n",
    "    prompt : str\n",
    "        Input prompt\n",
    "    min_temp : float, optional\n",
    "        Minimum temperature in data, by default {min_mt}\n",
    "    max_temp : float, optional\n",
    "        Maximum temperature in data, by default {max_mt}\n",
    "    binary : bool, optional\n",
    "        Whether the input should be \"yes\" or \"no\" only, by default False\n",
    "        \n",
    "    Returns\n",
    "    -------\n",
    "    float\n",
    "        User input\n",
    "    \"\"\"\n",
    "    \n",
    "    # Init user input and loop condition to False\n",
    "    i = b = False\n",
    "    \n",
    "    # Get user input\n",
    "    if binary: # yes/no input\n",
    "        while i not in ['yes', 'no']: # continue until input is either \"yes\" or \"no\"\n",
    "            i = input(prompt) # user input\n",
    "        i = 1 if i == 'yes' else 0 # convert input to num\n",
    "    else: \n",
    "        prompt += f'\\tEnter a number between {min_temp} and {max_temp}: ' \n",
    "        while not b: # loop condition\n",
    "            try:\n",
    "                i = float(input(prompt)) # get user input as num\n",
    "            except:\n",
    "                continue\n",
    "            if min_temp <= i <= max_temp: # check if user input is within proper temperature range\n",
    "                b = True # end loop\n",
    "            \n",
    "    # Numeric input\n",
    "    return i\n",
    "        \n",
    "    \n",
    "# Get preferred weather\n",
    "min_temp = user_input('1. What is the lowest temperature you would like at your destination?\\n')\n",
    "max_temp = user_input('2. What is the highest temperature you would like at your destination?\\n', min_temp=min_temp)\n",
    "rain = user_input('3. Would you like it to rain at your destination? (yes/no) ', binary=True)\n",
    "snow = user_input('4. Would you like it to snow at your destination? (yes/no) ', binary=True)\n",
    "min_temp, max_temp, rain, snow # enter 70, 90, yes, no"
   ]
  },
  {
   "cell_type": "code",
   "execution_count": null,
   "metadata": {},
   "outputs": [],
   "source": [
    "# Filter for max temp preference\n",
    "pref_cities = weather.loc[(weather['Max Temp'] >= min_temp) & (weather['Max Temp'] <= max_temp)]\n",
    "\n",
    "# Filter for rain preference\n",
    "if rain:\n",
    "    pref_cities = pref_cities[pref_cities['Rain'] > 0]\n",
    "else:\n",
    "    pref_cities = pref_cities[pref_cities['Rain'] == 0]\n",
    "\n",
    "# Filter for snow preference\n",
    "if snow:\n",
    "    pref_cities = pref_cities[pref_cities['Snow'] > 0]\n",
    "else:\n",
    "    pref_cities = pref_cities[pref_cities['Snow'] == 0]\n",
    "    \n",
    "pref_cities.shape"
   ]
  },
  {
   "cell_type": "code",
   "execution_count": null,
   "metadata": {},
   "outputs": [],
   "source": [
    "# Create new dataframe\n",
    "hotels = pref_cities.copy()\n",
    "hotels['Hotel'] = np.NaN # create new col for hotels\n",
    "\n",
    "# Request url and params\n",
    "base_url = 'https://maps.googleapis.com/maps/api/place/nearbysearch/json'\n",
    "payload = {\n",
    "    'key': config.GMAPS_API_KEY,\n",
    "    'type': 'lodging', # hotels\n",
    "    'radius': 5000 # meters\n",
    "}\n",
    "\n",
    "hotels.head(2)"
   ]
  },
  {
   "cell_type": "code",
   "execution_count": null,
   "metadata": {},
   "outputs": [],
   "source": [
    "# Sample response\n",
    "payload['location'] = f'{hotels.iloc[0, 3]},{hotels.iloc[0, 4]}' # first city in data\n",
    "response = requests.get(base_url, params=payload)\n",
    "response.json()"
   ]
  },
  {
   "cell_type": "code",
   "execution_count": null,
   "metadata": {},
   "outputs": [],
   "source": [
    "# Indices of cities without results\n",
    "i404 = []\n",
    "\n",
    "# Find nearest hotel for each city\n",
    "for idx, row in hotels.iterrows():\n",
    "    payload['location'] = f'{row[\"Latitude\"]},{row[\"Longitude\"]}' # city coordinates\n",
    "    try:\n",
    "        response = requests.get(base_url, params=payload)\n",
    "        response_json = response.json()\n",
    "        hotels.loc[idx, 'Hotel'] = response_json['results'][0]['name']\n",
    "    except:\n",
    "        i404.append(idx)\n",
    "\n",
    "print(len(i404))\n",
    "hotels.loc[i404, 'City'].tolist()"
   ]
  },
  {
   "cell_type": "code",
   "execution_count": null,
   "metadata": {},
   "outputs": [],
   "source": [
    "# Drop cities without results\n",
    "hotels.dropna(inplace=True)\n",
    "print(hotels.shape)\n",
    "hotels.head(2)"
   ]
  },
  {
   "cell_type": "markdown",
   "metadata": {},
   "source": [
    "### Temperature heatmap"
   ]
  },
  {
   "cell_type": "code",
   "execution_count": null,
   "metadata": {},
   "outputs": [],
   "source": [
    "# For Jupyterlab\n",
    "# !jupyter labextension install @jupyter-widgets/jupyterlab-manager\n",
    "# !jupyter lab build"
   ]
  },
  {
   "cell_type": "code",
   "execution_count": null,
   "metadata": {},
   "outputs": [],
   "source": [
    "# Locations and measurements\n",
    "locations = hotels[['Latitude', 'Longitude']]\n",
    "weights = hotels['Max Temp'].apply(lambda t: max(t, 0))\n",
    "\n",
    "# Info\n",
    "hotel_info = \"\"\"\n",
    "<dl>\n",
    "<dt>Hotel</dt><dd>{Hotel}</dd>\n",
    "<dt>City</dt><dd>{City}</dd>\n",
    "<dt>Country</dt><dd>{Country}</dd>\n",
    "<dt>Weather</dt><dd>{Max Temp} F - {Description}</dd>\n",
    "</dl>\n",
    "\"\"\"\n",
    "\n",
    "# Layers\n",
    "heat_layer = gmaps.heatmap_layer(locations, weights, dissipating=False, point_radius=7, max_intensity=140)\n",
    "mark_layer = gmaps.marker_layer(locations,\n",
    "                                info_box_content=[hotel_info.format(**row) for idx, row in hotels.iterrows()])\n",
    "\n",
    "# Heatmap\n",
    "fig = gmaps.figure(center=(0.0, 0.0), zoom_level=1.75)\n",
    "fig.add_layer(heat_layer)\n",
    "fig.add_layer(mark_layer)\n",
    "fig"
   ]
  },
  {
   "cell_type": "code",
   "execution_count": null,
   "metadata": {},
   "outputs": [],
   "source": [
    "# Save hotel data\n",
    "hotels.to_csv('data/hotels.csv', index=False)\n",
    "pd.read_csv('data/hotels.csv').head(2)"
   ]
  },
  {
   "cell_type": "code",
   "execution_count": null,
   "metadata": {},
   "outputs": [],
   "source": []
  }
 ],
 "metadata": {
  "kernelspec": {
   "display_name": "Python [conda env:PythonData] *",
   "language": "python",
   "name": "conda-env-PythonData-py"
  },
  "language_info": {
   "codemirror_mode": {
    "name": "ipython",
    "version": 3
   },
   "file_extension": ".py",
   "mimetype": "text/x-python",
   "name": "python",
   "nbconvert_exporter": "python",
   "pygments_lexer": "ipython3",
   "version": "3.7.10"
  }
 },
 "nbformat": 4,
 "nbformat_minor": 4
}
