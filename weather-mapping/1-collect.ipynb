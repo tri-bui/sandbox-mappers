{
 "cells": [
  {
   "cell_type": "markdown",
   "metadata": {},
   "source": [
    "# Weather Mapping - Data Collection\n",
    "\n",
    "### Dependencies"
   ]
  },
  {
   "cell_type": "code",
   "execution_count": 1,
   "metadata": {},
   "outputs": [],
   "source": [
    "# Dependencies\n",
    "import os\n",
    "import requests\n",
    "import numpy as np\n",
    "import pandas as pd\n",
    "import datetime as dt\n",
    "from citipy import citipy\n",
    "from config import OWM_KEY"
   ]
  },
  {
   "cell_type": "markdown",
   "metadata": {},
   "source": [
    "### Generate at least 1000 cities around the world randomly"
   ]
  },
  {
   "cell_type": "code",
   "execution_count": 2,
   "metadata": {},
   "outputs": [
    {
     "data": {
      "text/plain": [
       "(array([  8.78643071,  38.73408595,  18.49740769,   8.07897294,\n",
       "        -13.74213612]),\n",
       " array([  47.85016042,   -8.40824008,  169.70141582, -163.35849583,\n",
       "          56.95484869]))"
      ]
     },
     "execution_count": 2,
     "metadata": {},
     "output_type": "execute_result"
    }
   ],
   "source": [
    "# Generate random GCS coords\n",
    "np.random.seed(0)\n",
    "n_coords = 3500\n",
    "lat, lon = np.random.uniform(-90, 90, n_coords), np.random.uniform(-180, 180, n_coords)\n",
    "lat[:5], lon[:5]"
   ]
  },
  {
   "cell_type": "code",
   "execution_count": 3,
   "metadata": {},
   "outputs": [
    {
     "data": {
      "text/plain": [
       "1111"
      ]
     },
     "execution_count": 3,
     "metadata": {},
     "output_type": "execute_result"
    }
   ],
   "source": [
    "# Find cities closest to the generated coords\n",
    "cities = []\n",
    "for i in range(n_coords):\n",
    "    city = citipy.nearest_city(lat[i], lon[i])\n",
    "    if city.city_name not in cities:\n",
    "        cities.append(city.city_name)\n",
    "    \n",
    "len(cities)"
   ]
  },
  {
   "cell_type": "markdown",
   "metadata": {},
   "source": [
    "### Get weather data for each city"
   ]
  },
  {
   "cell_type": "code",
   "execution_count": 4,
   "metadata": {},
   "outputs": [
    {
     "data": {
      "text/plain": [
       "{'coord': {'lon': 48.4845, 'lat': 8.4054},\n",
       " 'weather': [{'id': 800,\n",
       "   'main': 'Clear',\n",
       "   'description': 'clear sky',\n",
       "   'icon': '01n'}],\n",
       " 'base': 'stations',\n",
       " 'main': {'temp': 74.7,\n",
       "  'feels_like': 75.58,\n",
       "  'temp_min': 74.7,\n",
       "  'temp_max': 74.7,\n",
       "  'pressure': 1013,\n",
       "  'humidity': 79,\n",
       "  'sea_level': 1013,\n",
       "  'grnd_level': 961},\n",
       " 'visibility': 10000,\n",
       " 'wind': {'speed': 12.19, 'deg': 97, 'gust': 17.78},\n",
       " 'clouds': {'all': 7},\n",
       " 'dt': 1618695761,\n",
       " 'sys': {'country': 'SO', 'sunrise': 1618713317, 'sunset': 1618757706},\n",
       " 'timezone': 10800,\n",
       " 'id': 58933,\n",
       " 'name': 'Garoowe',\n",
       " 'cod': 200}"
      ]
     },
     "execution_count": 4,
     "metadata": {},
     "output_type": "execute_result"
    }
   ],
   "source": [
    "# OpenWeatherMap URL for API calls\n",
    "url = 'http://api.openweathermap.org/data/2.5/weather?units=imperial'\n",
    "url += '&appid=' + OWM_KEY + '&q='\n",
    "\n",
    "# Sample OWM response\n",
    "response = requests.get(url + cities[0]).json()\n",
    "response"
   ]
  },
  {
   "cell_type": "code",
   "execution_count": 5,
   "metadata": {},
   "outputs": [
    {
     "name": "stdout",
     "output_type": "stream",
     "text": [
      "Starting data collection...\n",
      "\n",
      "Num API requests | Cities collected | Cities not found\n",
      "------------------------------------------------------\n",
      "       100       |         91       |          9\n",
      "       200       |        185       |         15\n",
      "       300       |        277       |         23\n",
      "       400       |        372       |         28\n",
      "       500       |        465       |         35\n",
      "       600       |        557       |         43\n",
      "       700       |        651       |         49\n",
      "       800       |        741       |         59\n",
      "       900       |        833       |         67\n",
      "      1000       |        925       |         75\n",
      "      1100       |       1012       |         88\n",
      "      1111       |       1023       |         88\n",
      "------------------------------------------------------\n",
      "\n",
      "Data collection complete.\n",
      "\n",
      "The following cities were not found with the OpenWeatherMap API:\n"
     ]
    },
    {
     "data": {
      "text/plain": [
       "['mys shmidta',\n",
       " 'taolanaro',\n",
       " 'illoqqortoormiut',\n",
       " 'cam pha',\n",
       " 'umzimvubu',\n",
       " 'belushya guba',\n",
       " 'naftah',\n",
       " 'babanusah',\n",
       " 'formoso do araguaia',\n",
       " 'sentyabrskiy',\n",
       " 'barentsburg',\n",
       " 'saleaula',\n",
       " 'amderma',\n",
       " 'attawapiskat',\n",
       " 'parras',\n",
       " 'mutsamudu',\n",
       " 'chagda',\n",
       " 'warqla',\n",
       " 'kuche',\n",
       " 'marcona',\n",
       " 'ust-kamchatsk',\n",
       " 'koboldo',\n",
       " 'grand river south east',\n",
       " 'nizhneyansk',\n",
       " 'tawzar',\n",
       " 'linchuan',\n",
       " 'rolim de moura',\n",
       " 'palabuhanratu',\n",
       " 'bolungarvik',\n",
       " 'samusu',\n",
       " 'vaitupu',\n",
       " 'kankavli',\n",
       " 'lokken verk',\n",
       " 'malwan',\n",
       " 'tsihombe',\n",
       " 'karaul',\n",
       " 'balasinor',\n",
       " 'tidore',\n",
       " 'sug-aksy',\n",
       " 'qabis',\n",
       " 'zhitikara',\n",
       " 'jarjis',\n",
       " 'karauzyak',\n",
       " 'solovetskiy',\n",
       " 'macaboboni',\n",
       " 'ituni',\n",
       " 'lolua',\n",
       " 'jiroft',\n",
       " 'paradwip',\n",
       " 'mouzakion',\n",
       " 'tawkar',\n",
       " 'halalo',\n",
       " 'kamenskoye',\n",
       " 'tumannyy',\n",
       " 'wulanhaote',\n",
       " 'ahumada',\n",
       " 'viksoyri',\n",
       " 'gorno-chuyskiy',\n",
       " 'fevralsk',\n",
       " 'tarudant',\n",
       " 'satitoa',\n",
       " 'mocambique',\n",
       " 'tome-acu',\n",
       " 'phan rang',\n",
       " 'tasbuget',\n",
       " 'chhukha',\n",
       " 'barawe',\n",
       " 'canitas',\n",
       " 'sorvag',\n",
       " 'dzhusaly',\n",
       " 'angamacutiro',\n",
       " 'saryshagan',\n",
       " 'burica',\n",
       " 'zhanatas',\n",
       " 'skalistyy',\n",
       " 'wahran',\n",
       " 'andarab',\n",
       " 'kalomo',\n",
       " 'crab hill',\n",
       " 'galiwinku',\n",
       " 'mahadday weyne',\n",
       " 'turtkul',\n",
       " 'armacao dos buzios',\n",
       " 'shibarghan',\n",
       " 'kawana waters',\n",
       " 'sindand',\n",
       " 'tabarqah',\n",
       " 'sahrak']"
      ]
     },
     "execution_count": 5,
     "metadata": {},
     "output_type": "execute_result"
    }
   ],
   "source": [
    "# Store \n",
    "weather200, weather404 = [], []\n",
    "\n",
    "# Print header\n",
    "print('Starting data collection...\\n')\n",
    "sep = (' ' * 7) + '| ' # col separator\n",
    "header = 'Num API requests | Cities collected | Cities not found'\n",
    "print(header)\n",
    "print('-' * len(header))\n",
    "\n",
    "# Get weather for each city\n",
    "for i, city in enumerate(cities):\n",
    "    \n",
    "    # Make request\n",
    "    response = requests.get(url + city.replace(' ', '+')).json()\n",
    "    \n",
    "    # For 200 responses (weather was found for city)\n",
    "    try: \n",
    "        \n",
    "        # Main weather\n",
    "        weather = {\n",
    "            'City': response['name'],\n",
    "            'Country': response['sys']['country'],\n",
    "            'Latitude': response['coord']['lat'],\n",
    "            'Longitude': response['coord']['lon'],\n",
    "            'Time': dt.datetime.utcfromtimestamp(response['dt']).strftime('%Y-%m-%d %H:%M:%S'),\n",
    "            'Description': response['weather'][0]['description'],\n",
    "            'Max Temp': response['main']['temp_max'],\n",
    "            'Humidity': response['main']['humidity'],\n",
    "            'Wind Speed': response['wind']['speed'],\n",
    "            'Cloudiness': response['clouds']['all']\n",
    "        }\n",
    "        \n",
    "        # Add rain and snow\n",
    "        for meas in ['Rain', 'Snow']:\n",
    "            try:\n",
    "                weather[meas] = response[mean.lower()]['1h']\n",
    "            except:\n",
    "                weather[meas] = 0\n",
    "        \n",
    "        # Add weather to 200 list\n",
    "        weather200.append(weather)\n",
    "    \n",
    "    except: # for 404 responses (city was not found)\n",
    "        weather404.append(city) # add city to 404 list\n",
    "        \n",
    "    # Print progress every 100 cities and on the last city\n",
    "    if (i > 0 and (i + 1) % 100 == 0) or i == len(cities) - 1:\n",
    "        print(f'{i + 1:10}', end=sep) # cities requested\n",
    "        print(f'{len(weather200):10}', end=sep) # cities collected\n",
    "        print(f'{len(weather404):10}') # cities not found\n",
    "        \n",
    "print('-' * len(header))\n",
    "print('\\nData collection complete.\\n')\n",
    "print('The following cities were not found with the OpenWeatherMap API:')\n",
    "print(weather404)"
   ]
  },
  {
   "cell_type": "markdown",
   "metadata": {},
   "source": [
    "### Convert data to dataframe"
   ]
  },
  {
   "cell_type": "code",
   "execution_count": 6,
   "metadata": {
    "tags": []
   },
   "outputs": [
    {
     "data": {
      "text/html": [
       "<div>\n",
       "<style scoped>\n",
       "    .dataframe tbody tr th:only-of-type {\n",
       "        vertical-align: middle;\n",
       "    }\n",
       "\n",
       "    .dataframe tbody tr th {\n",
       "        vertical-align: top;\n",
       "    }\n",
       "\n",
       "    .dataframe thead th {\n",
       "        text-align: right;\n",
       "    }\n",
       "</style>\n",
       "<table border=\"1\" class=\"dataframe\">\n",
       "  <thead>\n",
       "    <tr style=\"text-align: right;\">\n",
       "      <th></th>\n",
       "      <th>City</th>\n",
       "      <th>Country</th>\n",
       "      <th>Latitude</th>\n",
       "      <th>Longitude</th>\n",
       "      <th>Time</th>\n",
       "      <th>Description</th>\n",
       "      <th>Max Temp</th>\n",
       "      <th>Humidity</th>\n",
       "      <th>Wind Speed</th>\n",
       "      <th>Cloudiness</th>\n",
       "      <th>Rain</th>\n",
       "      <th>Snow</th>\n",
       "    </tr>\n",
       "  </thead>\n",
       "  <tbody>\n",
       "    <tr>\n",
       "      <th>0</th>\n",
       "      <td>Garoowe</td>\n",
       "      <td>SO</td>\n",
       "      <td>8.4054</td>\n",
       "      <td>48.4845</td>\n",
       "      <td>2021-04-17 21:42:41</td>\n",
       "      <td>clear sky</td>\n",
       "      <td>74.7</td>\n",
       "      <td>79</td>\n",
       "      <td>12.19</td>\n",
       "      <td>7</td>\n",
       "      <td>0</td>\n",
       "      <td>0</td>\n",
       "    </tr>\n",
       "    <tr>\n",
       "      <th>1</th>\n",
       "      <td>Vendas Novas</td>\n",
       "      <td>PT</td>\n",
       "      <td>38.6771</td>\n",
       "      <td>-8.4579</td>\n",
       "      <td>2021-04-17 21:42:41</td>\n",
       "      <td>clear sky</td>\n",
       "      <td>62.6</td>\n",
       "      <td>59</td>\n",
       "      <td>6.91</td>\n",
       "      <td>0</td>\n",
       "      <td>0</td>\n",
       "      <td>0</td>\n",
       "    </tr>\n",
       "  </tbody>\n",
       "</table>\n",
       "</div>"
      ],
      "text/plain": [
       "           City Country  Latitude  Longitude                 Time Description  \\\n",
       "0       Garoowe      SO    8.4054    48.4845  2021-04-17 21:42:41   clear sky   \n",
       "1  Vendas Novas      PT   38.6771    -8.4579  2021-04-17 21:42:41   clear sky   \n",
       "\n",
       "   Max Temp  Humidity  Wind Speed  Cloudiness  Rain  Snow  \n",
       "0      74.7        79       12.19           7     0     0  \n",
       "1      62.6        59        6.91           0     0     0  "
      ]
     },
     "execution_count": 6,
     "metadata": {},
     "output_type": "execute_result"
    }
   ],
   "source": [
    "# Create dataframe for weather data\n",
    "weather_df = pd.DataFrame(weather200)\n",
    "weather_df.head(2)"
   ]
  },
  {
   "cell_type": "code",
   "execution_count": 7,
   "metadata": {
    "tags": []
   },
   "outputs": [
    {
     "data": {
      "text/plain": [
       "'data/weather.csv'"
      ]
     },
     "execution_count": 7,
     "metadata": {},
     "output_type": "execute_result"
    }
   ],
   "source": [
    "# Data path\n",
    "os.makedirs('data', exist_ok=True) # create data dir\n",
    "data_path = os.path.join('data', 'weather.csv')\n",
    "data_path"
   ]
  },
  {
   "cell_type": "code",
   "execution_count": 8,
   "metadata": {},
   "outputs": [
    {
     "data": {
      "text/html": [
       "<div>\n",
       "<style scoped>\n",
       "    .dataframe tbody tr th:only-of-type {\n",
       "        vertical-align: middle;\n",
       "    }\n",
       "\n",
       "    .dataframe tbody tr th {\n",
       "        vertical-align: top;\n",
       "    }\n",
       "\n",
       "    .dataframe thead th {\n",
       "        text-align: right;\n",
       "    }\n",
       "</style>\n",
       "<table border=\"1\" class=\"dataframe\">\n",
       "  <thead>\n",
       "    <tr style=\"text-align: right;\">\n",
       "      <th></th>\n",
       "      <th>Id</th>\n",
       "      <th>City</th>\n",
       "      <th>Country</th>\n",
       "      <th>Latitude</th>\n",
       "      <th>Longitude</th>\n",
       "      <th>Time</th>\n",
       "      <th>Description</th>\n",
       "      <th>Max Temp</th>\n",
       "      <th>Humidity</th>\n",
       "      <th>Wind Speed</th>\n",
       "      <th>Cloudiness</th>\n",
       "      <th>Rain</th>\n",
       "      <th>Snow</th>\n",
       "    </tr>\n",
       "  </thead>\n",
       "  <tbody>\n",
       "    <tr>\n",
       "      <th>0</th>\n",
       "      <td>0</td>\n",
       "      <td>Garoowe</td>\n",
       "      <td>SO</td>\n",
       "      <td>8.4054</td>\n",
       "      <td>48.4845</td>\n",
       "      <td>2021-04-17 21:42:41</td>\n",
       "      <td>clear sky</td>\n",
       "      <td>74.7</td>\n",
       "      <td>79</td>\n",
       "      <td>12.19</td>\n",
       "      <td>7</td>\n",
       "      <td>0</td>\n",
       "      <td>0</td>\n",
       "    </tr>\n",
       "    <tr>\n",
       "      <th>1</th>\n",
       "      <td>1</td>\n",
       "      <td>Vendas Novas</td>\n",
       "      <td>PT</td>\n",
       "      <td>38.6771</td>\n",
       "      <td>-8.4579</td>\n",
       "      <td>2021-04-17 21:42:41</td>\n",
       "      <td>clear sky</td>\n",
       "      <td>62.6</td>\n",
       "      <td>59</td>\n",
       "      <td>6.91</td>\n",
       "      <td>0</td>\n",
       "      <td>0</td>\n",
       "      <td>0</td>\n",
       "    </tr>\n",
       "  </tbody>\n",
       "</table>\n",
       "</div>"
      ],
      "text/plain": [
       "   Id          City Country  Latitude  Longitude                 Time  \\\n",
       "0   0       Garoowe      SO    8.4054    48.4845  2021-04-17 21:42:41   \n",
       "1   1  Vendas Novas      PT   38.6771    -8.4579  2021-04-17 21:42:41   \n",
       "\n",
       "  Description  Max Temp  Humidity  Wind Speed  Cloudiness  Rain  Snow  \n",
       "0   clear sky      74.7        79       12.19           7     0     0  \n",
       "1   clear sky      62.6        59        6.91           0     0     0  "
      ]
     },
     "execution_count": 8,
     "metadata": {},
     "output_type": "execute_result"
    }
   ],
   "source": [
    "# Save data\n",
    "weather_df.to_csv(data_path, index_label='Id')\n",
    "pd.read_csv(data_path).head(2)"
   ]
  },
  {
   "cell_type": "code",
   "execution_count": null,
   "metadata": {},
   "outputs": [],
   "source": []
  }
 ],
 "metadata": {
  "kernelspec": {
   "display_name": "Python [conda env:PythonData] *",
   "language": "python",
   "name": "conda-env-PythonData-py"
  },
  "language_info": {
   "codemirror_mode": {
    "name": "ipython",
    "version": 3
   },
   "file_extension": ".py",
   "mimetype": "text/x-python",
   "name": "python",
   "nbconvert_exporter": "python",
   "pygments_lexer": "ipython3",
   "version": "3.7.10"
  }
 },
 "nbformat": 4,
 "nbformat_minor": 4
}
