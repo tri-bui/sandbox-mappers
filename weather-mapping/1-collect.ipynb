{
 "cells": [
  {
   "cell_type": "markdown",
   "metadata": {},
   "source": [
    "# Weather Mapping - Data Collection\n",
    "\n",
    "### Dependencies"
   ]
  },
  {
   "cell_type": "code",
   "execution_count": 3,
   "metadata": {},
   "outputs": [],
   "source": [
    "# Dependencies\n",
    "from citipy import citipy\n",
    "import datetime as dt\n",
    "import requests\n",
    "import numpy as np\n",
    "import pandas as pd\n",
    "from config import OWM_KEY"
   ]
  },
  {
   "cell_type": "markdown",
   "metadata": {},
   "source": [
    "### Generate at least 1000 cities around the world randomly"
   ]
  },
  {
   "cell_type": "code",
   "execution_count": 4,
   "metadata": {},
   "outputs": [
    {
     "data": {
      "text/plain": [
       "(array([  8.78643071,  38.73408595,  18.49740769,   8.07897294,\n",
       "        -13.74213612]),\n",
       " array([  47.85016042,   -8.40824008,  169.70141582, -163.35849583,\n",
       "          56.95484869]))"
      ]
     },
     "execution_count": 4,
     "metadata": {},
     "output_type": "execute_result"
    }
   ],
   "source": [
    "# Generate random GCS coords\n",
    "np.random.seed(0)\n",
    "n_coords = 3500\n",
    "lat, lon = np.random.uniform(-90, 90, n_coords), np.random.uniform(-180, 180, n_coords)\n",
    "lat[:5], lon[:5]"
   ]
  },
  {
   "cell_type": "code",
   "execution_count": 5,
   "metadata": {},
   "outputs": [
    {
     "data": {
      "text/plain": [
       "1111"
      ]
     },
     "execution_count": 5,
     "metadata": {},
     "output_type": "execute_result"
    }
   ],
   "source": [
    "# Find cities closest to the generated coords\n",
    "cities = []\n",
    "for i in range(n_coords):\n",
    "    city = citipy.nearest_city(lat[i], lon[i])\n",
    "    if city.city_name not in cities:\n",
    "        cities.append(city.city_name)\n",
    "    \n",
    "len(cities)"
   ]
  },
  {
   "cell_type": "markdown",
   "metadata": {},
   "source": [
    "### Get weather data for each city"
   ]
  },
  {
   "cell_type": "code",
   "execution_count": 6,
   "metadata": {},
   "outputs": [
    {
     "data": {
      "text/plain": [
       "{'coord': {'lon': 48.4845, 'lat': 8.4054},\n",
       " 'weather': [{'id': 800,\n",
       "   'main': 'Clear',\n",
       "   'description': 'clear sky',\n",
       "   'icon': '01n'}],\n",
       " 'base': 'stations',\n",
       " 'main': {'temp': 75.29,\n",
       "  'feels_like': 76.1,\n",
       "  'temp_min': 75.29,\n",
       "  'temp_max': 75.29,\n",
       "  'pressure': 1014,\n",
       "  'humidity': 76,\n",
       "  'sea_level': 1014,\n",
       "  'grnd_level': 961},\n",
       " 'visibility': 10000,\n",
       " 'wind': {'speed': 13.31, 'deg': 99, 'gust': 19.39},\n",
       " 'clouds': {'all': 4},\n",
       " 'dt': 1618692389,\n",
       " 'sys': {'country': 'SO', 'sunrise': 1618626943, 'sunset': 1618671307},\n",
       " 'timezone': 10800,\n",
       " 'id': 58933,\n",
       " 'name': 'Garoowe',\n",
       " 'cod': 200}"
      ]
     },
     "execution_count": 6,
     "metadata": {},
     "output_type": "execute_result"
    }
   ],
   "source": [
    "# OpenWeatherMap URL for API calls\n",
    "url = 'http://api.openweathermap.org/data/2.5/weather?units=imperial'\n",
    "url += '&appid=' + OWM_KEY + '&q='\n",
    "\n",
    "# Sample OWM response\n",
    "response = requests.get(url + cities[0]).json()\n",
    "response"
   ]
  },
  {
   "cell_type": "code",
   "execution_count": 7,
   "metadata": {},
   "outputs": [
    {
     "name": "stdout",
     "output_type": "stream",
     "text": [
      "Starting data collection...\n",
      "\n",
      "Num API requests | Cities collected | Cities not found\n",
      "------------------------------------------------------\n",
      "        10       |         10       |          0\n",
      "        20       |         18       |          2\n",
      "------------------------------------------------------\n",
      "\n",
      "Data collection complete.\n"
     ]
    }
   ],
   "source": [
    "# Store \n",
    "weather200, weather404 = [], []\n",
    "\n",
    "# Print header\n",
    "print('Starting data collection...\\n')\n",
    "sep = (' ' * 7) + '| ' # col separator\n",
    "header = 'Num API requests | Cities collected | Cities not found'\n",
    "print(header)\n",
    "print('-' * len(header))\n",
    "\n",
    "# Get weather for each city\n",
    "for i, city in enumerate(cities):\n",
    "    \n",
    "    # Make request\n",
    "    response = requests.get(url + city.replace(' ', '+')).json()\n",
    "    \n",
    "    # For 200 responses (weather was found for city)\n",
    "    try: \n",
    "        \n",
    "        # Main weather\n",
    "        weather = {\n",
    "            'City': response['name'],\n",
    "            'Country': response['sys']['country'],\n",
    "            'Latitude': response['coord']['lat'],\n",
    "            'Longitude': response['coord']['lon'],\n",
    "            'Time': dt.datetime.utcfromtimestamp(response['dt']).strftime('%Y-%m-%d %H:%M:%S'),\n",
    "            'Description': response['weather'][0]['description'],\n",
    "            'Max Temp': response['main']['temp_max'],\n",
    "            'Humidity': response['main']['humidity'],\n",
    "            'Wind Speed': response['wind']['speed'],\n",
    "            'Cloudiness': response['clouds']['all']\n",
    "        }\n",
    "        \n",
    "        # Add rain and snow\n",
    "        for meas in ['Rain', 'Snow']:\n",
    "            try:\n",
    "                weather[meas] = response[mean.lower()]['1h']\n",
    "            except:\n",
    "                weather[meas] = 0\n",
    "        \n",
    "        # Add weather to 200 list\n",
    "        weather200.append(weather)\n",
    "    \n",
    "    except: # for 404 responses (city was not found)\n",
    "        weather404.append(city) # add city to 404 list\n",
    "        \n",
    "    # Print progress every 100 cities and on the last city\n",
    "    if (i > 0 and (i + 1) % 100 == 0) or i == len(cities) - 1:\n",
    "        print(f'{i + 1:10}', end=sep) # cities requested\n",
    "        print(f'{len(weather200):10}', end=sep) # cities collected\n",
    "        print(f'{len(weather404):10}') # cities not found\n",
    "        \n",
    "print('-' * len(header))\n",
    "print('\\nData collection complete.')"
   ]
  },
  {
   "cell_type": "markdown",
   "metadata": {},
   "source": [
    "### Convert data to dataframe"
   ]
  },
  {
   "cell_type": "code",
   "execution_count": 5,
   "metadata": {
    "execution": {
     "iopub.execute_input": "2020-11-04T14:38:28.314662Z",
     "iopub.status.busy": "2020-11-04T14:38:28.314278Z",
     "iopub.status.idle": "2020-11-04T14:38:28.377722Z",
     "shell.execute_reply": "2020-11-04T14:38:28.376855Z",
     "shell.execute_reply.started": "2020-11-04T14:38:28.314630Z"
    }
   },
   "outputs": [
    {
     "name": "stdout",
     "output_type": "stream",
     "text": [
      "<class 'pandas.core.frame.DataFrame'>\n",
      "RangeIndex: 1023 entries, 0 to 1022\n",
      "Data columns (total 12 columns):\n",
      " #   Column       Non-Null Count  Dtype  \n",
      "---  ------       --------------  -----  \n",
      " 0   City         1023 non-null   object \n",
      " 1   Country      1023 non-null   object \n",
      " 2   Latitude     1023 non-null   float64\n",
      " 3   Longitude    1023 non-null   float64\n",
      " 4   Time         1023 non-null   object \n",
      " 5   Description  1023 non-null   object \n",
      " 6   Max Temp     1023 non-null   float64\n",
      " 7   Humidity     1023 non-null   int64  \n",
      " 8   Wind Speed   1023 non-null   float64\n",
      " 9   Cloudiness   1023 non-null   int64  \n",
      " 10  Rain         1023 non-null   float64\n",
      " 11  Snow         1023 non-null   float64\n",
      "dtypes: float64(6), int64(2), object(4)\n",
      "memory usage: 96.0+ KB\n",
      "None\n"
     ]
    },
    {
     "data": {
      "text/html": [
       "<div>\n",
       "<style scoped>\n",
       "    .dataframe tbody tr th:only-of-type {\n",
       "        vertical-align: middle;\n",
       "    }\n",
       "\n",
       "    .dataframe tbody tr th {\n",
       "        vertical-align: top;\n",
       "    }\n",
       "\n",
       "    .dataframe thead th {\n",
       "        text-align: right;\n",
       "    }\n",
       "</style>\n",
       "<table border=\"1\" class=\"dataframe\">\n",
       "  <thead>\n",
       "    <tr style=\"text-align: right;\">\n",
       "      <th></th>\n",
       "      <th>City</th>\n",
       "      <th>Country</th>\n",
       "      <th>Latitude</th>\n",
       "      <th>Longitude</th>\n",
       "      <th>Time</th>\n",
       "      <th>Description</th>\n",
       "      <th>Max Temp</th>\n",
       "      <th>Humidity</th>\n",
       "      <th>Wind Speed</th>\n",
       "      <th>Cloudiness</th>\n",
       "      <th>Rain</th>\n",
       "      <th>Snow</th>\n",
       "    </tr>\n",
       "  </thead>\n",
       "  <tbody>\n",
       "    <tr>\n",
       "      <th>0</th>\n",
       "      <td>Garoowe</td>\n",
       "      <td>SO</td>\n",
       "      <td>8.4054</td>\n",
       "      <td>48.4845</td>\n",
       "      <td>2021-01-09 20:45:48</td>\n",
       "      <td>clear sky</td>\n",
       "      <td>66.99</td>\n",
       "      <td>64</td>\n",
       "      <td>16.51</td>\n",
       "      <td>0</td>\n",
       "      <td>0.0</td>\n",
       "      <td>0.0</td>\n",
       "    </tr>\n",
       "    <tr>\n",
       "      <th>1</th>\n",
       "      <td>Vendas Novas</td>\n",
       "      <td>PT</td>\n",
       "      <td>38.6771</td>\n",
       "      <td>-8.4579</td>\n",
       "      <td>2021-01-09 20:45:49</td>\n",
       "      <td>few clouds</td>\n",
       "      <td>43.00</td>\n",
       "      <td>65</td>\n",
       "      <td>11.50</td>\n",
       "      <td>20</td>\n",
       "      <td>0.0</td>\n",
       "      <td>0.0</td>\n",
       "    </tr>\n",
       "  </tbody>\n",
       "</table>\n",
       "</div>"
      ],
      "text/plain": [
       "           City Country  Latitude  Longitude                 Time Description  \\\n",
       "0       Garoowe      SO    8.4054    48.4845  2021-01-09 20:45:48   clear sky   \n",
       "1  Vendas Novas      PT   38.6771    -8.4579  2021-01-09 20:45:49  few clouds   \n",
       "\n",
       "   Max Temp  Humidity  Wind Speed  Cloudiness  Rain  Snow  \n",
       "0     66.99        64       16.51           0   0.0   0.0  \n",
       "1     43.00        65       11.50          20   0.0   0.0  "
      ]
     },
     "execution_count": 5,
     "metadata": {},
     "output_type": "execute_result"
    }
   ],
   "source": [
    "# Create dataframe for weather data\n",
    "weather_df = pd.DataFrame(cities200)\n",
    "print(weather_df.info())\n",
    "weather_df.head(2)"
   ]
  },
  {
   "cell_type": "code",
   "execution_count": 7,
   "metadata": {
    "execution": {
     "iopub.execute_input": "2020-11-04T14:42:16.176938Z",
     "iopub.status.busy": "2020-11-04T14:42:16.176677Z",
     "iopub.status.idle": "2020-11-04T14:42:16.207094Z",
     "shell.execute_reply": "2020-11-04T14:42:16.206199Z",
     "shell.execute_reply.started": "2020-11-04T14:42:16.176909Z"
    }
   },
   "outputs": [
    {
     "data": {
      "text/html": [
       "<div>\n",
       "<style scoped>\n",
       "    .dataframe tbody tr th:only-of-type {\n",
       "        vertical-align: middle;\n",
       "    }\n",
       "\n",
       "    .dataframe tbody tr th {\n",
       "        vertical-align: top;\n",
       "    }\n",
       "\n",
       "    .dataframe thead th {\n",
       "        text-align: right;\n",
       "    }\n",
       "</style>\n",
       "<table border=\"1\" class=\"dataframe\">\n",
       "  <thead>\n",
       "    <tr style=\"text-align: right;\">\n",
       "      <th></th>\n",
       "      <th>ID</th>\n",
       "      <th>City</th>\n",
       "      <th>Country</th>\n",
       "      <th>Latitude</th>\n",
       "      <th>Longitude</th>\n",
       "      <th>Time</th>\n",
       "      <th>Description</th>\n",
       "      <th>Max Temp</th>\n",
       "      <th>Humidity</th>\n",
       "      <th>Wind Speed</th>\n",
       "      <th>Cloudiness</th>\n",
       "      <th>Rain</th>\n",
       "      <th>Snow</th>\n",
       "    </tr>\n",
       "  </thead>\n",
       "  <tbody>\n",
       "    <tr>\n",
       "      <th>0</th>\n",
       "      <td>0</td>\n",
       "      <td>Garoowe</td>\n",
       "      <td>SO</td>\n",
       "      <td>8.4054</td>\n",
       "      <td>48.4845</td>\n",
       "      <td>2021-01-09 20:45:48</td>\n",
       "      <td>clear sky</td>\n",
       "      <td>66.99</td>\n",
       "      <td>64</td>\n",
       "      <td>16.51</td>\n",
       "      <td>0</td>\n",
       "      <td>0.0</td>\n",
       "      <td>0.0</td>\n",
       "    </tr>\n",
       "    <tr>\n",
       "      <th>1</th>\n",
       "      <td>1</td>\n",
       "      <td>Vendas Novas</td>\n",
       "      <td>PT</td>\n",
       "      <td>38.6771</td>\n",
       "      <td>-8.4579</td>\n",
       "      <td>2021-01-09 20:45:49</td>\n",
       "      <td>few clouds</td>\n",
       "      <td>43.00</td>\n",
       "      <td>65</td>\n",
       "      <td>11.50</td>\n",
       "      <td>20</td>\n",
       "      <td>0.0</td>\n",
       "      <td>0.0</td>\n",
       "    </tr>\n",
       "  </tbody>\n",
       "</table>\n",
       "</div>"
      ],
      "text/plain": [
       "   ID          City Country  Latitude  Longitude                 Time  \\\n",
       "0   0       Garoowe      SO    8.4054    48.4845  2021-01-09 20:45:48   \n",
       "1   1  Vendas Novas      PT   38.6771    -8.4579  2021-01-09 20:45:49   \n",
       "\n",
       "  Description  Max Temp  Humidity  Wind Speed  Cloudiness  Rain  Snow  \n",
       "0   clear sky     66.99        64       16.51           0   0.0   0.0  \n",
       "1  few clouds     43.00        65       11.50          20   0.0   0.0  "
      ]
     },
     "execution_count": 7,
     "metadata": {},
     "output_type": "execute_result"
    }
   ],
   "source": [
    "# Save data\n",
    "weather_df.to_csv('data/weather.csv', index_label='ID')\n",
    "pd.read_csv('data/weather.csv').head(2)"
   ]
  },
  {
   "cell_type": "code",
   "execution_count": null,
   "metadata": {},
   "outputs": [],
   "source": []
  }
 ],
 "metadata": {
  "kernelspec": {
   "display_name": "Python [conda env:PythonData] *",
   "language": "python",
   "name": "conda-env-PythonData-py"
  },
  "language_info": {
   "codemirror_mode": {
    "name": "ipython",
    "version": 3
   },
   "file_extension": ".py",
   "mimetype": "text/x-python",
   "name": "python",
   "nbconvert_exporter": "python",
   "pygments_lexer": "ipython3",
   "version": "3.7.10"
  }
 },
 "nbformat": 4,
 "nbformat_minor": 4
}
