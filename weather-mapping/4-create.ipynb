{
 "cells": [
  {
   "cell_type": "markdown",
   "metadata": {},
   "source": [
    "# WeatherPy - Itinerary Creation\n",
    "\n",
    "### Dependencies and data"
   ]
  },
  {
   "cell_type": "code",
   "execution_count": 1,
   "metadata": {},
   "outputs": [],
   "source": [
    "%matplotlib inline\n",
    "\n",
    "import datetime as dt\n",
    "import gmaps\n",
    "import requests\n",
    "import numpy as np\n",
    "import pandas as pd\n",
    "\n",
    "import config"
   ]
  },
  {
   "cell_type": "code",
   "execution_count": 2,
   "metadata": {},
   "outputs": [],
   "source": [
    "# Configure API key\n",
    "gmaps.configure(api_key=config.GMAPS_API_KEY)"
   ]
  },
  {
   "cell_type": "code",
   "execution_count": 3,
   "metadata": {},
   "outputs": [
    {
     "data": {
      "text/html": [
       "<div>\n",
       "<style scoped>\n",
       "    .dataframe tbody tr th:only-of-type {\n",
       "        vertical-align: middle;\n",
       "    }\n",
       "\n",
       "    .dataframe tbody tr th {\n",
       "        vertical-align: top;\n",
       "    }\n",
       "\n",
       "    .dataframe thead th {\n",
       "        text-align: right;\n",
       "    }\n",
       "</style>\n",
       "<table border=\"1\" class=\"dataframe\">\n",
       "  <thead>\n",
       "    <tr style=\"text-align: right;\">\n",
       "      <th></th>\n",
       "      <th>ID</th>\n",
       "      <th>City</th>\n",
       "      <th>Country</th>\n",
       "      <th>Latitude</th>\n",
       "      <th>Longitude</th>\n",
       "      <th>Time</th>\n",
       "      <th>Description</th>\n",
       "      <th>Max Temp</th>\n",
       "      <th>Humidity</th>\n",
       "      <th>Wind Speed</th>\n",
       "      <th>Cloudiness</th>\n",
       "      <th>Rain</th>\n",
       "      <th>Snow</th>\n",
       "      <th>Hotel</th>\n",
       "    </tr>\n",
       "  </thead>\n",
       "  <tbody>\n",
       "    <tr>\n",
       "      <th>0</th>\n",
       "      <td>2</td>\n",
       "      <td>Butaritari</td>\n",
       "      <td>KI</td>\n",
       "      <td>3.0707</td>\n",
       "      <td>172.7902</td>\n",
       "      <td>2021-01-09 20:45:49</td>\n",
       "      <td>light rain</td>\n",
       "      <td>81.70</td>\n",
       "      <td>80</td>\n",
       "      <td>21.07</td>\n",
       "      <td>62</td>\n",
       "      <td>0.2200</td>\n",
       "      <td>0.0</td>\n",
       "      <td>Isles Sunset Lodge</td>\n",
       "    </tr>\n",
       "    <tr>\n",
       "      <th>1</th>\n",
       "      <td>26</td>\n",
       "      <td>San Policarpo</td>\n",
       "      <td>PH</td>\n",
       "      <td>12.1791</td>\n",
       "      <td>125.5072</td>\n",
       "      <td>2021-01-09 20:45:54</td>\n",
       "      <td>heavy intensity rain</td>\n",
       "      <td>80.11</td>\n",
       "      <td>85</td>\n",
       "      <td>19.33</td>\n",
       "      <td>100</td>\n",
       "      <td>5.0126</td>\n",
       "      <td>0.0</td>\n",
       "      <td>JM Lodge</td>\n",
       "    </tr>\n",
       "  </tbody>\n",
       "</table>\n",
       "</div>"
      ],
      "text/plain": [
       "   ID           City Country  Latitude  Longitude                 Time  \\\n",
       "0   2     Butaritari      KI    3.0707   172.7902  2021-01-09 20:45:49   \n",
       "1  26  San Policarpo      PH   12.1791   125.5072  2021-01-09 20:45:54   \n",
       "\n",
       "            Description  Max Temp  Humidity  Wind Speed  Cloudiness    Rain  \\\n",
       "0            light rain     81.70        80       21.07          62  0.2200   \n",
       "1  heavy intensity rain     80.11        85       19.33         100  5.0126   \n",
       "\n",
       "   Snow               Hotel  \n",
       "0   0.0  Isles Sunset Lodge  \n",
       "1   0.0            JM Lodge  "
      ]
     },
     "execution_count": 3,
     "metadata": {},
     "output_type": "execute_result"
    }
   ],
   "source": [
    "# Hotel data\n",
    "hotels = pd.read_csv('data/hotels.csv')\n",
    "hotels.head(2)"
   ]
  },
  {
   "cell_type": "markdown",
   "metadata": {},
   "source": [
    "### Narrow search and find 4-5 nearby cities"
   ]
  },
  {
   "cell_type": "code",
   "execution_count": 4,
   "metadata": {},
   "outputs": [
    {
     "data": {
      "text/plain": [
       "(70.0, 89.6)"
      ]
     },
     "execution_count": 4,
     "metadata": {},
     "output_type": "execute_result"
    }
   ],
   "source": [
    "# Get the lowest and highest `Max Temp` in the data\n",
    "min_mt, max_mt = hotels['Max Temp'].min(), hotels['Max Temp'].max()\n",
    "min_mt, max_mt"
   ]
  },
  {
   "cell_type": "code",
   "execution_count": 12,
   "metadata": {},
   "outputs": [
    {
     "name": "stdout",
     "output_type": "stream",
     "text": [
      "What is the lowest temperature you would like at your destination? 75\n",
      "What is the highest temperature you would like at your destination? 85\n",
      "Would you like it to rain at your destination? (yes/no) yes\n",
      "Would you like it to snow at your destination? (yes/no) no\n"
     ]
    },
    {
     "data": {
      "text/plain": [
       "(75.0, 85.0, 1, 0)"
      ]
     },
     "execution_count": 12,
     "metadata": {},
     "output_type": "execute_result"
    }
   ],
   "source": [
    "def take_input(prompt, min_temp=min_mt, max_temp=max_mt, yes_no=False):\n",
    "    \n",
    "    \"\"\"\n",
    "    Take user input for weather preferences.\n",
    "    \n",
    "    Args:\n",
    "        [1] prompt (str) - input prompt\n",
    "        [2] min_temp (float) - minimum temperature in data\n",
    "        [3] max_temp (float) - maximum temperature in data\n",
    "        [4] yes_no (bool) - whether the input should be \"yes\" or \"no\" only\n",
    "        \n",
    "    Returns:\n",
    "        [float or str] User input\n",
    "    \"\"\"\n",
    "    \n",
    "    # Initialize user input and loop condition to False\n",
    "    i = b = False\n",
    "    \n",
    "    if yes_no: # yes/no input\n",
    "        while i not in ['yes', 'no']: # continue until input is \"yes\" or \"no\"\n",
    "            i = input(prompt) # take user input\n",
    "        i = 1 if i == 'yes' else 0 # convert input to numeric\n",
    "    else: \n",
    "        while not b: # loop condition\n",
    "            try:\n",
    "                i = float(input(prompt)) # take user input and convert to numeric\n",
    "            except:\n",
    "                continue\n",
    "            if min_temp <= i <= max_temp: # check if user input is within proper temperature range\n",
    "                b = True # end loop\n",
    "            \n",
    "    # Numeric input\n",
    "    return i\n",
    "        \n",
    "    \n",
    "# Get preferred weather\n",
    "min_temp = take_input('What is the lowest temperature you would like at your destination? ')\n",
    "max_temp = take_input('What is the highest temperature you would like at your destination? ', min_temp=min_temp)\n",
    "rain = take_input('Would you like it to rain at your destination? (yes/no) ', yes_no=True)\n",
    "snow = take_input('Would you like it to snow at your destination? (yes/no) ', yes_no=True)\n",
    "min_temp, max_temp, rain, snow # enter 75, 85, yes, no"
   ]
  },
  {
   "cell_type": "code",
   "execution_count": 13,
   "metadata": {},
   "outputs": [
    {
     "data": {
      "text/plain": [
       "(46, 14)"
      ]
     },
     "execution_count": 13,
     "metadata": {},
     "output_type": "execute_result"
    }
   ],
   "source": [
    "# Filter for max temp preference\n",
    "pref_cities = hotels.loc[(hotels['Max Temp'] >= min_temp) & (hotels['Max Temp'] <= max_temp)]\n",
    "\n",
    "# Filter for rain preference\n",
    "if rain:\n",
    "    pref_cities = pref_cities[pref_cities['Rain'] > 0]\n",
    "else:\n",
    "    pref_cities = pref_cities[pref_cities['Rain'] == 0]\n",
    "\n",
    "# Filter for snow preference\n",
    "if snow:\n",
    "    pref_cities = pref_cities[pref_cities['Snow'] > 0]\n",
    "else:\n",
    "    pref_cities = pref_cities[pref_cities['Snow'] == 0]\n",
    "    \n",
    "pref_cities.shape"
   ]
  },
  {
   "cell_type": "code",
   "execution_count": 14,
   "metadata": {},
   "outputs": [
    {
     "name": "stdout",
     "output_type": "stream",
     "text": [
      "0\n"
     ]
    },
    {
     "data": {
      "text/plain": [
       "[]"
      ]
     },
     "execution_count": 14,
     "metadata": {},
     "output_type": "execute_result"
    }
   ],
   "source": [
    "# Request url and params\n",
    "base_url = 'https://maps.googleapis.com/maps/api/place/nearbysearch/json'\n",
    "payload = {\n",
    "    'key': config.GMAPS_API_KEY,\n",
    "    'type': 'lodging', # hotels\n",
    "    'radius': 5000 # meters\n",
    "}\n",
    "\n",
    "# Indices of cities without results\n",
    "i404 = []\n",
    "\n",
    "# Find nearest hotel for each city\n",
    "for idx, row in pref_cities.iterrows():\n",
    "    payload['location'] = f'{row[\"Latitude\"]},{row[\"Longitude\"]}'\n",
    "    try:\n",
    "        response = requests.get(base_url, params=payload)\n",
    "        response_json = response.json()\n",
    "        pref_cities.loc[idx, 'Hotel'] = response_json['results'][0]['name']\n",
    "    except:\n",
    "        i404.append(idx)\n",
    "\n",
    "print(len(i404))\n",
    "hotels.loc[i404, 'City'].tolist()"
   ]
  },
  {
   "cell_type": "markdown",
   "metadata": {},
   "source": [
    "### Temperature heatmap"
   ]
  },
  {
   "cell_type": "code",
   "execution_count": 15,
   "metadata": {},
   "outputs": [],
   "source": [
    "# For Jupyterlab\n",
    "# !jupyter labextension install @jupyter-widgets/jupyterlab-manager\n",
    "# !jupyter lab build"
   ]
  },
  {
   "cell_type": "code",
   "execution_count": 17,
   "metadata": {},
   "outputs": [
    {
     "data": {
      "application/vnd.jupyter.widget-view+json": {
       "model_id": "fa796defd89c477caafb8a04b69a47f9",
       "version_major": 2,
       "version_minor": 0
      },
      "text/plain": [
       "Figure(layout=FigureLayout(height='420px'))"
      ]
     },
     "metadata": {},
     "output_type": "display_data"
    }
   ],
   "source": [
    "# Locations and measurements\n",
    "locations = pref_cities[['Latitude', 'Longitude']]\n",
    "weights = pref_cities['Max Temp'].apply(lambda t: max(t, 0))\n",
    "\n",
    "# Info\n",
    "hotel_info = '''\n",
    "<dl>\n",
    "<dt>Hotel</dt><dd>{Hotel}</dd>\n",
    "<dt>City</dt><dd>{City}</dd>\n",
    "<dt>Country</dt><dd>{Country}</dd>\n",
    "<dt>Weather</dt><dd>{Max Temp}F - {Description}</dd>\n",
    "</dl>\n",
    "'''\n",
    "\n",
    "# Layers\n",
    "heat_layer = gmaps.heatmap_layer(locations, weights, dissipating=False, point_radius=7, max_intensity=140)\n",
    "mark_layer = gmaps.marker_layer(locations,\n",
    "                                info_box_content=[hotel_info.format(**row) for idx, row in pref_cities.iterrows()])\n",
    "\n",
    "# Heatmap\n",
    "fig = gmaps.figure(center=(0.0, 0.0), zoom_level=1.75)\n",
    "fig.add_layer(heat_layer)\n",
    "fig.add_layer(mark_layer)\n",
    "fig"
   ]
  },
  {
   "cell_type": "markdown",
   "metadata": {},
   "source": [
    "### Create travel itinerary"
   ]
  },
  {
   "cell_type": "code",
   "execution_count": 19,
   "metadata": {},
   "outputs": [
    {
     "data": {
      "text/html": [
       "<div>\n",
       "<style scoped>\n",
       "    .dataframe tbody tr th:only-of-type {\n",
       "        vertical-align: middle;\n",
       "    }\n",
       "\n",
       "    .dataframe tbody tr th {\n",
       "        vertical-align: top;\n",
       "    }\n",
       "\n",
       "    .dataframe thead th {\n",
       "        text-align: right;\n",
       "    }\n",
       "</style>\n",
       "<table border=\"1\" class=\"dataframe\">\n",
       "  <thead>\n",
       "    <tr style=\"text-align: right;\">\n",
       "      <th></th>\n",
       "      <th>ID</th>\n",
       "      <th>City</th>\n",
       "      <th>Country</th>\n",
       "      <th>Latitude</th>\n",
       "      <th>Longitude</th>\n",
       "      <th>Time</th>\n",
       "      <th>Description</th>\n",
       "      <th>Max Temp</th>\n",
       "      <th>Humidity</th>\n",
       "      <th>Wind Speed</th>\n",
       "      <th>Cloudiness</th>\n",
       "      <th>Rain</th>\n",
       "      <th>Snow</th>\n",
       "      <th>Hotel</th>\n",
       "    </tr>\n",
       "  </thead>\n",
       "  <tbody>\n",
       "    <tr>\n",
       "      <th>36</th>\n",
       "      <td>555</td>\n",
       "      <td>Miracema do Tocantins</td>\n",
       "      <td>BR</td>\n",
       "      <td>-9.5618</td>\n",
       "      <td>-48.3967</td>\n",
       "      <td>2021-01-09 20:47:55</td>\n",
       "      <td>light rain</td>\n",
       "      <td>79.27</td>\n",
       "      <td>78</td>\n",
       "      <td>2.89</td>\n",
       "      <td>100</td>\n",
       "      <td>0.200</td>\n",
       "      <td>0.0</td>\n",
       "      <td>Miami Apart Hotel</td>\n",
       "    </tr>\n",
       "    <tr>\n",
       "      <th>39</th>\n",
       "      <td>567</td>\n",
       "      <td>São Miguel do Araguaia</td>\n",
       "      <td>BR</td>\n",
       "      <td>-13.2750</td>\n",
       "      <td>-50.1628</td>\n",
       "      <td>2021-01-09 20:47:57</td>\n",
       "      <td>moderate rain</td>\n",
       "      <td>82.11</td>\n",
       "      <td>75</td>\n",
       "      <td>6.93</td>\n",
       "      <td>69</td>\n",
       "      <td>3.158</td>\n",
       "      <td>0.0</td>\n",
       "      <td>Hotel Executivo Palace</td>\n",
       "    </tr>\n",
       "    <tr>\n",
       "      <th>41</th>\n",
       "      <td>606</td>\n",
       "      <td>São Félix do Xingu</td>\n",
       "      <td>BR</td>\n",
       "      <td>-6.6447</td>\n",
       "      <td>-51.9950</td>\n",
       "      <td>2021-01-09 20:48:06</td>\n",
       "      <td>very heavy rain</td>\n",
       "      <td>83.37</td>\n",
       "      <td>71</td>\n",
       "      <td>3.56</td>\n",
       "      <td>100</td>\n",
       "      <td>23.679</td>\n",
       "      <td>0.0</td>\n",
       "      <td>Rio Xingu Camping</td>\n",
       "    </tr>\n",
       "    <tr>\n",
       "      <th>61</th>\n",
       "      <td>962</td>\n",
       "      <td>Altamira</td>\n",
       "      <td>BR</td>\n",
       "      <td>-3.2033</td>\n",
       "      <td>-52.2064</td>\n",
       "      <td>2021-01-09 20:49:26</td>\n",
       "      <td>moderate rain</td>\n",
       "      <td>78.84</td>\n",
       "      <td>92</td>\n",
       "      <td>2.10</td>\n",
       "      <td>99</td>\n",
       "      <td>2.526</td>\n",
       "      <td>0.0</td>\n",
       "      <td>Requinte Hotel</td>\n",
       "    </tr>\n",
       "  </tbody>\n",
       "</table>\n",
       "</div>"
      ],
      "text/plain": [
       "     ID                    City Country  Latitude  Longitude  \\\n",
       "36  555   Miracema do Tocantins      BR   -9.5618   -48.3967   \n",
       "39  567  São Miguel do Araguaia      BR  -13.2750   -50.1628   \n",
       "41  606      São Félix do Xingu      BR   -6.6447   -51.9950   \n",
       "61  962                Altamira      BR   -3.2033   -52.2064   \n",
       "\n",
       "                   Time      Description  Max Temp  Humidity  Wind Speed  \\\n",
       "36  2021-01-09 20:47:55       light rain     79.27        78        2.89   \n",
       "39  2021-01-09 20:47:57    moderate rain     82.11        75        6.93   \n",
       "41  2021-01-09 20:48:06  very heavy rain     83.37        71        3.56   \n",
       "61  2021-01-09 20:49:26    moderate rain     78.84        92        2.10   \n",
       "\n",
       "    Cloudiness    Rain  Snow                   Hotel  \n",
       "36         100   0.200   0.0       Miami Apart Hotel  \n",
       "39          69   3.158   0.0  Hotel Executivo Palace  \n",
       "41         100  23.679   0.0       Rio Xingu Camping  \n",
       "61          99   2.526   0.0          Requinte Hotel  "
      ]
     },
     "execution_count": 19,
     "metadata": {},
     "output_type": "execute_result"
    }
   ],
   "source": [
    "# Select cities\n",
    "cities = ['Altamira', 'São Félix do Xingu', 'Miracema do Tocantins', 'São Miguel do Araguaia']\n",
    "cities_df = pref_cities[pref_cities['City'].isin(cities)]\n",
    "cities_df"
   ]
  },
  {
   "cell_type": "code",
   "execution_count": 24,
   "metadata": {},
   "outputs": [
    {
     "data": {
      "text/plain": [
       "array([[ -3.2033, -52.2064],\n",
       "       [-13.275 , -50.1628],\n",
       "       [ -6.6447, -51.995 ],\n",
       "       [ -9.5618, -48.3967]])"
      ]
     },
     "execution_count": 24,
     "metadata": {},
     "output_type": "execute_result"
    }
   ],
   "source": [
    "# Extract coordinates for each city\n",
    "cities_df = cities_df.loc[[61, 39, 41, 36]]\n",
    "locations = cities_df[['Latitude', 'Longitude']].values\n",
    "locations"
   ]
  },
  {
   "cell_type": "code",
   "execution_count": 40,
   "metadata": {
    "scrolled": true
   },
   "outputs": [
    {
     "data": {
      "application/vnd.jupyter.widget-view+json": {
       "model_id": "678e363c86c94805935263ce2f5e0905",
       "version_major": 2,
       "version_minor": 0
      },
      "text/plain": [
       "Figure(layout=FigureLayout(height='420px'))"
      ]
     },
     "metadata": {},
     "output_type": "display_data"
    }
   ],
   "source": [
    "# Info\n",
    "city_info = '''\n",
    "<dl>\n",
    "<dt>Hotel</dt><dd>{Hotel}</dd>\n",
    "<dt>City</dt><dd>{City}</dd>\n",
    "<dt>Country</dt><dd>{Country}</dd>\n",
    "<dt>Weather</dt><dd>{Max Temp} F - {Description}</dd>\n",
    "</dl>\n",
    "'''\n",
    "\n",
    "# Layers\n",
    "dir_layer = gmaps.directions_layer(locations[0], locations[1], locations[2:], show_markers=False)\n",
    "mark_layer = gmaps.marker_layer(locations,\n",
    "                                info_box_content=[city_info.format(**row) for idx, row in cities_df.iterrows()])\n",
    "\n",
    "# Map\n",
    "fig = gmaps.figure(center=(-6.0, -48.0), zoom_level=5)\n",
    "fig.add_layer(dir_layer)\n",
    "fig.add_layer(mark_layer)\n",
    "fig"
   ]
  },
  {
   "cell_type": "code",
   "execution_count": null,
   "metadata": {},
   "outputs": [],
   "source": []
  }
 ],
 "metadata": {
  "kernelspec": {
   "display_name": "Python [conda env:PythonData] *",
   "language": "python",
   "name": "conda-env-PythonData-py"
  },
  "language_info": {
   "codemirror_mode": {
    "name": "ipython",
    "version": 3
   },
   "file_extension": ".py",
   "mimetype": "text/x-python",
   "name": "python",
   "nbconvert_exporter": "python",
   "pygments_lexer": "ipython3",
   "version": "3.7.10"
  }
 },
 "nbformat": 4,
 "nbformat_minor": 4
}
